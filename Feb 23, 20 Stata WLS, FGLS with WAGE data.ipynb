{
 "cells": [
  {
   "cell_type": "markdown",
   "metadata": {},
   "source": [
    "---\n",
    "# <font color = blue> Feb 15, 2020 Stata IV, 2SLS, GMM with ivreg pkg card.dta\n",
    "---\n",
    "* Name: Jikhan Jeong\n",
    "* This is for understanding GLS, FGLS in breif \n",
    "* This code is done in jupterlab with stata kernel in HPC environment to show the results of code so it may some magic command which is not in stata \n",
    "* Entire data and code is from following website; however, I changed and modified it a little bit for better understanding.\n",
    "* Ref: http://www3.grips.ac.jp/~yamanota/yamanoCourses.htm (lecture, code, data source), Thank you for Prof. Yamanota \n",
    "* Related Wooldridge's book (254-260 page) :https://www.amazon.com/Introductory-Econometrics-Modern-Approach-Standalone/dp/130527010X/ref=sr_1_3?keywords=Wooldridge&qid=1582496216&sr=8-3\n",
    "* Data: WAGE1.DTA\n",
    "---            \n",
    "    "
   ]
  },
  {
   "cell_type": "markdown",
   "metadata": {},
   "source": [
    "# <font color = blue> Part 0. Data Preparing </font>\n",
    "---"
   ]
  },
  {
   "cell_type": "code",
   "execution_count": 1,
   "metadata": {},
   "outputs": [],
   "source": [
    "use \"WAGE1.DTA\", clear"
   ]
  },
  {
   "cell_type": "code",
   "execution_count": 2,
   "metadata": {},
   "outputs": [
    {
     "data": {
      "text/html": [
       "<div>\n",
       "<style scoped>\n",
       "    .dataframe tbody tr th:only-of-type {\n",
       "        vertical-align: middle;\n",
       "    }\n",
       "\n",
       "    .dataframe tbody tr th {\n",
       "        vertical-align: top;\n",
       "    }\n",
       "\n",
       "    .dataframe thead th {\n",
       "        text-align: right;\n",
       "    }\n",
       "</style>\n",
       "<table border=\"1\" class=\"dataframe\">\n",
       "  <thead>\n",
       "    <tr style=\"text-align: right;\">\n",
       "      <th></th>\n",
       "      <th>wage</th>\n",
       "      <th>educ</th>\n",
       "      <th>exper</th>\n",
       "      <th>tenure</th>\n",
       "      <th>nonwhite</th>\n",
       "      <th>female</th>\n",
       "      <th>married</th>\n",
       "      <th>numdep</th>\n",
       "      <th>smsa</th>\n",
       "      <th>northcen</th>\n",
       "      <th>south</th>\n",
       "      <th>west</th>\n",
       "      <th>construc</th>\n",
       "      <th>ndurman</th>\n",
       "      <th>trcommpu</th>\n",
       "      <th>trade</th>\n",
       "      <th>services</th>\n",
       "      <th>profserv</th>\n",
       "      <th>profocc</th>\n",
       "      <th>clerocc</th>\n",
       "      <th>servocc</th>\n",
       "      <th>lwage</th>\n",
       "      <th>expersq</th>\n",
       "      <th>tenursq</th>\n",
       "    </tr>\n",
       "  </thead>\n",
       "  <tbody>\n",
       "    <tr>\n",
       "      <th>1</th>\n",
       "      <td>3.0999999</td>\n",
       "      <td>11</td>\n",
       "      <td>2</td>\n",
       "      <td>0</td>\n",
       "      <td>0</td>\n",
       "      <td>1</td>\n",
       "      <td>0</td>\n",
       "      <td>2</td>\n",
       "      <td>1</td>\n",
       "      <td>0</td>\n",
       "      <td>0</td>\n",
       "      <td>1</td>\n",
       "      <td>0</td>\n",
       "      <td>0</td>\n",
       "      <td>0</td>\n",
       "      <td>0</td>\n",
       "      <td>0</td>\n",
       "      <td>0</td>\n",
       "      <td>0</td>\n",
       "      <td>0</td>\n",
       "      <td>0</td>\n",
       "      <td>1.1314021</td>\n",
       "      <td>4</td>\n",
       "      <td>0</td>\n",
       "    </tr>\n",
       "  </tbody>\n",
       "</table>\n",
       "</div>"
      ],
      "text/plain": [
       "\n",
       "     +---------------------------------------------------------------------------------------------------------------------------------------------------------------------------------------------------------------------------------+\n",
       "     | wage   educ   exper   tenure   nonwhite   female   married   numdep   smsa   northcen   south   west   construc   ndurman   trcommpu   trade   services   profserv   profocc   clerocc   servocc      lwage   expersq   tenursq |\n",
       "     |---------------------------------------------------------------------------------------------------------------------------------------------------------------------------------------------------------------------------------|\n",
       "  1. |  3.1     11       2        0          0        1         0        2      1          0       0      1          0         0          0       0          0          0         0         0         0   1.131402         4         0 |\n",
       "     +---------------------------------------------------------------------------------------------------------------------------------------------------------------------------------------------------------------------------------+\n",
       "\n"
      ]
     },
     "metadata": {},
     "output_type": "display_data"
    }
   ],
   "source": [
    "%head 1"
   ]
  },
  {
   "cell_type": "code",
   "execution_count": 3,
   "metadata": {},
   "outputs": [
    {
     "name": "stdout",
     "output_type": "stream",
     "text": [
      "\n",
      "    Variable |        Obs        Mean    Std. Dev.       Min        Max\n",
      "-------------+---------------------------------------------------------\n",
      "        wage |        526    5.896103    3.693086        .53      24.98\n",
      "        educ |        526    12.56274    2.769022          0         18\n",
      "       exper |        526    17.01711    13.57216          1         51\n",
      "      tenure |        526    5.104563    7.224462          0         44\n",
      "    nonwhite |        526    .1026616    .3038053          0          1\n",
      "-------------+---------------------------------------------------------\n",
      "      female |        526    .4790875     .500038          0          1\n",
      "     married |        526     .608365    .4885804          0          1\n",
      "      numdep |        526    1.043726    1.261891          0          6\n",
      "        smsa |        526    .7224335    .4482246          0          1\n",
      "    northcen |        526    .2509506    .4339728          0          1\n",
      "-------------+---------------------------------------------------------\n",
      "       south |        526    .3555133    .4791242          0          1\n",
      "        west |        526    .1692015    .3752867          0          1\n",
      "    construc |        526    .0456274    .2088743          0          1\n",
      "     ndurman |        526    .1140684     .318197          0          1\n",
      "    trcommpu |        526    .0437262      .20468          0          1\n",
      "-------------+---------------------------------------------------------\n",
      "       trade |        526    .2870722    .4528262          0          1\n",
      "    services |        526    .1007605    .3012978          0          1\n",
      "    profserv |        526    .2585551    .4382574          0          1\n",
      "     profocc |        526    .3669202    .4824233          0          1\n",
      "     clerocc |        526    .1673004    .3735991          0          1\n",
      "-------------+---------------------------------------------------------\n",
      "     servocc |        526    .1406844    .3480267          0          1\n",
      "       lwage |        526    1.623268    .5315382  -.6348783   3.218076\n",
      "     expersq |        526    473.4354    616.0448          1       2601\n",
      "     tenursq |        526    78.15019    199.4347          0       1936\n"
     ]
    }
   ],
   "source": [
    "sum"
   ]
  },
  {
   "cell_type": "markdown",
   "metadata": {},
   "source": [
    "---\n",
    "# <font color=blue> Part 1:  OLS\n",
    "---\n",
    "* Dependent: lwage \n",
    "* Independent: educ female exper expersq\n",
    "---"
   ]
  },
  {
   "cell_type": "code",
   "execution_count": 7,
   "metadata": {},
   "outputs": [
    {
     "name": "stdout",
     "output_type": "stream",
     "text": [
      "\n",
      "      Source |       SS           df       MS      Number of obs   =       526\n",
      "-------------+----------------------------------   F(4, 521)       =     86.69\n",
      "       Model |  59.2711314         4  14.8177829   Prob > F        =    0.0000\n",
      "    Residual |    89.05862       521   .17093785   R-squared       =    0.3996\n",
      "-------------+----------------------------------   Adj R-squared   =    0.3950\n",
      "       Total |  148.329751       525   .28253286   Root MSE        =    .41345\n",
      "\n",
      "------------------------------------------------------------------------------\n",
      "       lwage |      Coef.   Std. Err.      t    P>|t|     [95% Conf. Interval]\n",
      "-------------+----------------------------------------------------------------\n",
      "        educ |   .0841361   .0069568    12.09   0.000     .0704692    .0978029\n",
      "      female |  -.3371868   .0363214    -9.28   0.000    -.4085411   -.2658324\n",
      "       exper |     .03891   .0048235     8.07   0.000      .029434    .0483859\n",
      "     expersq |   -.000686   .0001074    -6.39   0.000     -.000897   -.0004751\n",
      "       _cons |    .390483   .1022096     3.82   0.000     .1896894    .5912767\n",
      "------------------------------------------------------------------------------\n"
     ]
    }
   ],
   "source": [
    "reg lwage    educ female exper expersq"
   ]
  },
  {
   "cell_type": "markdown",
   "metadata": {},
   "source": [
    "---\n",
    "# <font color=blue> Part 2:  GLS\n",
    "* assumes we know the weight matrix\n",
    "---"
   ]
  },
  {
   "cell_type": "markdown",
   "metadata": {},
   "source": [
    "### <font color=blue> Step1: Generate weigted variable\n",
    "* Create weight = assumes we know weight matrix = 1/educ^0.5 is a weight matrix (strong assumption)\n",
    "* Multiply weight with Y and X\n",
    "---"
   ]
  },
  {
   "cell_type": "code",
   "execution_count": null,
   "metadata": {},
   "outputs": [],
   "source": [
    "gen w=1/(educ)^0.5              # Just pick weights, not optimal; however, we assumes this weight is known and optimal\n",
    "gen weighted_lwage=  lwage*w\n",
    "gen weighted_female= female*w\n",
    "gen weighted_educ=   educ*w\n",
    "gen weighted_exper=  exper*w\n",
    "gen weighted_expersq=   expersq*w"
   ]
  },
  {
   "cell_type": "code",
   "execution_count": 16,
   "metadata": {},
   "outputs": [
    {
     "name": "stdout",
     "output_type": "stream",
     "text": [
      "\n",
      "    Variable |        Obs        Mean    Std. Dev.       Min        Max\n",
      "-------------+---------------------------------------------------------\n",
      "           w |        524    .2878218    .0419019   .2357023   .7071068\n",
      "weighted_l~e |        524    .4600634    .1391728  -.1832736   .9346225\n",
      "weighted_f~e |        524    .1372049     .145159          0   .4472136\n",
      "weighted_e~c |        524    3.528959    .3967792   1.414214    4.24264\n",
      "weighted_e~r |        524    5.058787    4.558981   .2357023   29.44486\n",
      "-------------+---------------------------------------------------------\n",
      "weighted_e~q |        524    144.6707    208.5306   .2357023   1501.688\n"
     ]
    }
   ],
   "source": [
    "sum w weighted_lwage weighted_female weighted_educ weighted_exper  weighted_expersq"
   ]
  },
  {
   "cell_type": "markdown",
   "metadata": {},
   "source": [
    "---\n",
    "#### <font color=blue> Step2: Estimate weighted least squares (WLS) model\n",
    "---"
   ]
  },
  {
   "cell_type": "code",
   "execution_count": 18,
   "metadata": {},
   "outputs": [
    {
     "name": "stdout",
     "output_type": "stream",
     "text": [
      "\n",
      "      Source |       SS           df       MS      Number of obs   =       524\n",
      "-------------+----------------------------------   F(5, 519)       =   1660.16\n",
      "       Model |  113.916451         5  22.7832901   Prob > F        =    0.0000\n",
      "    Residual |  7.12253755       519  .013723579   R-squared       =    0.9412\n",
      "-------------+----------------------------------   Adj R-squared   =    0.9406\n",
      "       Total |  121.038988       524  .230990435   Root MSE        =    .11715\n",
      "\n",
      "----------------------------------------------------------------------------------\n",
      "  weighted_lwage |      Coef.   Std. Err.      t    P>|t|     [95% Conf. Interval]\n",
      "-----------------+----------------------------------------------------------------\n",
      "   weighted_educ |    .080147    .006435    12.45   0.000     .0675051    .0927889\n",
      " weighted_female |  -.3503307   .0354369    -9.89   0.000    -.4199482   -.2807133\n",
      "  weighted_exper |   .0367367   .0045745     8.03   0.000     .0277498    .0457236\n",
      "weighted_expersq |  -.0006319    .000099    -6.39   0.000    -.0008264   -.0004375\n",
      "               w |   .4557085   .0912787     4.99   0.000     .2763872    .6350297\n",
      "----------------------------------------------------------------------------------\n"
     ]
    }
   ],
   "source": [
    "reg weighted_lwage  weighted_educ weighted_female weighted_exper weighted_expersq w, noc"
   ]
  },
  {
   "cell_type": "markdown",
   "metadata": {},
   "source": [
    "---\n",
    "# <font color=blue> Part 3: FGLS </font>\n",
    "---\n",
    "* Condition: Cov(Y) = Cov(error) is not identity deistributed, and we don't know what is weight matrix in GLS \n",
    "* We need to estimate the weight matrx by applying the following process\n",
    "* 1. Run OLS\n",
    "* 2. Get Resigual of OLS = e_ols = e \n",
    "* 3. Generate Log esitimated q  = log(e'e)\n",
    "* 4. OLS : log(e'e) ~ educ female exper expsq \n",
    "* 5. Get a predicted value of log(e'e) = hat of log estimated q = hat_log_(e'e)\n",
    "* 6. Get Omega by plut predicted log estimated q into exponential function -> Omega = exp(hat_log_(e'e)\n",
    "* 7. Creating weight matrix by weight = 1/(Omega)^1/2\n",
    "* 8. Multiply weight to both side of original OLS equation -> Y = X*beta -> wY ~ wX*beta\n",
    "* 9. Run regression wY ~ wX*beta\n",
    "* Ref: Wooldridge page (260 page FGLS estimation processes)\n",
    "---"
   ]
  },
  {
   "cell_type": "markdown",
   "metadata": {},
   "source": [
    "#### 1. Run OLS"
   ]
  },
  {
   "cell_type": "code",
   "execution_count": 21,
   "metadata": {},
   "outputs": [
    {
     "name": "stdout",
     "output_type": "stream",
     "text": [
      "\n",
      "Unknown #command\n",
      "\n",
      "      Source |       SS           df       MS      Number of obs   =       526\n",
      "-------------+----------------------------------   F(4, 521)       =     86.69\n",
      "       Model |  59.2711314         4  14.8177829   Prob > F        =    0.0000\n",
      "    Residual |    89.05862       521   .17093785   R-squared       =    0.3996\n",
      "-------------+----------------------------------   Adj R-squared   =    0.3950\n",
      "       Total |  148.329751       525   .28253286   Root MSE        =    .41345\n",
      "\n",
      "------------------------------------------------------------------------------\n",
      "       lwage |      Coef.   Std. Err.      t    P>|t|     [95% Conf. Interval]\n",
      "-------------+----------------------------------------------------------------\n",
      "        educ |   .0841361   .0069568    12.09   0.000     .0704692    .0978029\n",
      "      female |  -.3371868   .0363214    -9.28   0.000    -.4085411   -.2658324\n",
      "       exper |     .03891   .0048235     8.07   0.000      .029434    .0483859\n",
      "     expersq |   -.000686   .0001074    -6.39   0.000     -.000897   -.0004751\n",
      "       _cons |    .390483   .1022096     3.82   0.000     .1896894    .5912767\n",
      "------------------------------------------------------------------------------\n"
     ]
    }
   ],
   "source": [
    "reg lwage educ female exper expersq"
   ]
  },
  {
   "cell_type": "markdown",
   "metadata": {},
   "source": [
    "### 2. Get Resigual of OLS = e_ols = e"
   ]
  },
  {
   "cell_type": "code",
   "execution_count": 22,
   "metadata": {},
   "outputs": [],
   "source": [
    "predict e, residual"
   ]
  },
  {
   "cell_type": "markdown",
   "metadata": {},
   "source": [
    "### 3. Generate Log esitimated q = log(e'e)"
   ]
  },
  {
   "cell_type": "code",
   "execution_count": 23,
   "metadata": {},
   "outputs": [],
   "source": [
    "gen log_estimated_q = ln(e*e)"
   ]
  },
  {
   "cell_type": "markdown",
   "metadata": {},
   "source": [
    "### 4. OLS : log(e'e) ~ educ female exper expsq "
   ]
  },
  {
   "cell_type": "code",
   "execution_count": 27,
   "metadata": {},
   "outputs": [
    {
     "name": "stdout",
     "output_type": "stream",
     "text": [
      "\n",
      "      Source |       SS           df       MS      Number of obs   =       526\n",
      "-------------+----------------------------------   F(4, 521)       =      5.73\n",
      "       Model |  119.579085         4  29.8947712   Prob > F        =    0.0002\n",
      "    Residual |  2720.03141       521  5.22078965   R-squared       =    0.0421\n",
      "-------------+----------------------------------   Adj R-squared   =    0.0348\n",
      "       Total |  2839.61049       525  5.40878189   Root MSE        =    2.2849\n",
      "\n",
      "------------------------------------------------------------------------------\n",
      "log_estima~q |      Coef.   Std. Err.      t    P>|t|     [95% Conf. Interval]\n",
      "-------------+----------------------------------------------------------------\n",
      "        educ |   .0718669   .0384467     1.87   0.062    -.0036627    .1473964\n",
      "      female |   -.496624   .2007295    -2.47   0.014    -.8909627   -.1022852\n",
      "       exper |   .0807454   .0266572     3.03   0.003     .0283766    .1331143\n",
      "     expersq |  -.0014259   .0005934    -2.40   0.017    -.0025917   -.0002601\n",
      "       _cons |  -4.532606     .56486    -8.02   0.000     -5.64229   -3.422923\n",
      "------------------------------------------------------------------------------\n"
     ]
    }
   ],
   "source": [
    "reg log_estimated_q  educ female exper expersq"
   ]
  },
  {
   "cell_type": "markdown",
   "metadata": {},
   "source": [
    "### 5. Get a predicted value of log(e'e) = hat of log estimated q = hat_log_(e'e)"
   ]
  },
  {
   "cell_type": "code",
   "execution_count": 28,
   "metadata": {},
   "outputs": [
    {
     "name": "stdout",
     "output_type": "stream",
     "text": [
      "(option xb assumed; fitted values)\n"
     ]
    }
   ],
   "source": [
    "predict predicted_log_estimated_q  "
   ]
  },
  {
   "cell_type": "code",
   "execution_count": 36,
   "metadata": {},
   "outputs": [
    {
     "name": "stdout",
     "output_type": "stream",
     "text": [
      "\n",
      "    Variable |        Obs        Mean    Std. Dev.       Min        Max\n",
      "-------------+---------------------------------------------------------\n",
      "predicted_~q |        526   -3.168716    .4772522  -4.231242  -2.096585\n"
     ]
    }
   ],
   "source": [
    "sum predicted_log_estimated_q  "
   ]
  },
  {
   "cell_type": "markdown",
   "metadata": {},
   "source": [
    "### 6. Get Omega by plut predicted log estimated q into exponential function -> Omega = exp(hat_log_(e'e)"
   ]
  },
  {
   "cell_type": "code",
   "execution_count": 29,
   "metadata": {},
   "outputs": [],
   "source": [
    "gen omega=exp(predicted_log_estimated_q)"
   ]
  },
  {
   "cell_type": "code",
   "execution_count": 35,
   "metadata": {},
   "outputs": [
    {
     "name": "stdout",
     "output_type": "stream",
     "text": [
      "\n",
      "    Variable |        Obs        Mean    Std. Dev.       Min        Max\n",
      "-------------+---------------------------------------------------------\n",
      "       omega |        526    .0469478    .0219954   .0145343   .1228753\n"
     ]
    }
   ],
   "source": [
    "sum omega"
   ]
  },
  {
   "cell_type": "markdown",
   "metadata": {},
   "source": [
    "### 7. Creating weight matrix by weight matrix = 1/(Omega)^1/2"
   ]
  },
  {
   "cell_type": "code",
   "execution_count": 37,
   "metadata": {},
   "outputs": [],
   "source": [
    "gen fgls_weight=1/(omega)^0.5"
   ]
  },
  {
   "cell_type": "code",
   "execution_count": 38,
   "metadata": {},
   "outputs": [
    {
     "name": "stdout",
     "output_type": "stream",
     "text": [
      "\n",
      "    Variable |        Obs        Mean    Std. Dev.       Min        Max\n",
      "-------------+---------------------------------------------------------\n",
      " fgls_weight |        526    5.017777    1.220166   2.852776   8.294736\n"
     ]
    }
   ],
   "source": [
    "sum fgls_weight"
   ]
  },
  {
   "cell_type": "markdown",
   "metadata": {},
   "source": [
    "### 8. Multiply weight to both side of original OLS equation -> Y = X*beta -> wY ~ wX*beta"
   ]
  },
  {
   "cell_type": "code",
   "execution_count": null,
   "metadata": {},
   "outputs": [],
   "source": [
    "gen fgls_weighted_lwage   =   lwage*fgls_weight\n",
    "gen fgls_weighted_female   =   female*fgls_weight\n",
    "gen fgls_weighted_educ    =   educ*fgls_weight\n",
    "gen fgls_weighted_exper   =   exper*fgls_weight\n",
    "gen fgls_weighted_expersq =   expersq*fgls_weight"
   ]
  },
  {
   "cell_type": "code",
   "execution_count": 43,
   "metadata": {},
   "outputs": [
    {
     "name": "stdout",
     "output_type": "stream",
     "text": [
      "\n",
      "    Variable |        Obs        Mean    Std. Dev.       Min        Max\n",
      "-------------+---------------------------------------------------------\n",
      "fgls_weig~ge |        526    7.778322    2.115953  -4.546649    16.6817\n",
      "fgls_weigh~c |        526    61.77805    16.69801          0   106.9765\n",
      "fgls_weig~le |        526    2.761222     2.98256          0   8.294736\n",
      "fgls_weigh~r |        526    78.31162    67.04885   4.854187   366.1111\n",
      "fgls_weigh~q |        526    2190.806    3222.909   4.854187   18353.15\n",
      "-------------+---------------------------------------------------------\n",
      " fgls_weight |        526    5.017777    1.220166   2.852776   8.294736\n"
     ]
    }
   ],
   "source": [
    "sum fgls_weighted_lwage  fgls_weighted_educ fgls_weighted_female  fgls_weighted_exper  fgls_weighted_expersq fgls_weight"
   ]
  },
  {
   "cell_type": "markdown",
   "metadata": {},
   "source": [
    "### 9. Estimate Feasible GLS (FGLS) model\n",
    "* Run regression wY ~ wX*beta_fgls"
   ]
  },
  {
   "cell_type": "code",
   "execution_count": 46,
   "metadata": {},
   "outputs": [
    {
     "name": "stdout",
     "output_type": "stream",
     "text": [
      "\n",
      "      Source |       SS           df       MS      Number of obs   =       526\n",
      "-------------+----------------------------------   F(5, 521)       =   1555.59\n",
      "       Model |  32029.3037         5  6405.86073   Prob > F        =    0.0000\n",
      "    Residual |  2145.46375       521  4.11797265   R-squared       =    0.9372\n",
      "-------------+----------------------------------   Adj R-squared   =    0.9366\n",
      "       Total |  34174.7674       526  64.9710407   Root MSE        =    2.0293\n",
      "\n",
      "---------------------------------------------------------------------------------------\n",
      "  fgls_weighted_lwage |      Coef.   Std. Err.      t    P>|t|     [95% Conf. Interval]\n",
      "----------------------+----------------------------------------------------------------\n",
      "   fgls_weighted_educ |   .0751668   .0065543    11.47   0.000     .0622906     .088043\n",
      " fgls_weighted_female |  -.2858389   .0354633    -8.06   0.000    -.3555075   -.2161704\n",
      "  fgls_weighted_exper |   .0389362   .0045178     8.62   0.000      .030061    .0478115\n",
      "fgls_weighted_expersq |   -.000693   .0001004    -6.90   0.000    -.0008903   -.0004958\n",
      "          fgls_weight |   .4755142   .0923694     5.15   0.000     .2940518    .6569765\n",
      "---------------------------------------------------------------------------------------\n"
     ]
    }
   ],
   "source": [
    "reg fgls_weighted_lwage  fgls_weighted_educ fgls_weighted_female  fgls_weighted_exper  fgls_weighted_expersq fgls_weight,noc"
   ]
  },
  {
   "cell_type": "markdown",
   "metadata": {},
   "source": [
    "---\n",
    "# <font color =blue> Part 4: Compare OLS, WLS(=GLS with wrong weight matrix but we think it as a correct, FGLS </font>\n",
    "---\n",
    "* GLS (=WLS, the first regression) : (= we assumes we know weight matrix, but it is not correct = **wrong weight matrix**)\n",
    "* FGLS with estimated weight matrix \n",
    "* Compared to standard error of beta coefficient = **FGLS's educeation coefficient's standard error is the smallest among others**\n",
    "* Using eststo package to show the results:   \n",
    "(command line) cap ssc install estout  \n",
    "(command line) sysuse auto, clear  \n",
    "(command line) eststo clear  \n",
    "\n",
    "---"
   ]
  },
  {
   "cell_type": "code",
   "execution_count": 48,
   "metadata": {},
   "outputs": [
    {
     "name": "stdout",
     "output_type": "stream",
     "text": [
      "\n",
      "(est1 stored)\n",
      "\n",
      "(est2 stored)\n",
      "\n",
      "(est3 stored)\n"
     ]
    }
   ],
   "source": [
    "eststo: qui reg lwage    educ female exper expersq\n",
    "eststo: qui reg weighted_lwage  weighted_educ weighted_female weighted_exper weighted_expersq w, noc\n",
    "eststo: qui reg fgls_weighted_lwage  fgls_weighted_educ fgls_weighted_female  fgls_weighted_exper  fgls_weighted_expersq fgls_weight,noc"
   ]
  },
  {
   "cell_type": "code",
   "execution_count": 49,
   "metadata": {},
   "outputs": [
    {
     "data": {
      "text/html": [
       "\n",
       "<table border=\"0\" width=\"*\">\n",
       "<caption>OLS, WLS, FGLS Table</caption>\n",
       "<tr><td colspan=4><hr></td></tr>\n",
       "<tr><td>                    </td><td>         (1)              </td><td>         (2)              </td><td>         (3)              </td></tr>\n",
       "<tr><td>                    </td><td>   log(wage)              </td><td>weighted_lwage              </td><td>fgls_weighted_lwage              </td></tr>\n",
       "<tr><td colspan=4><hr></td></tr>\n",
       "<tr><td>years of education  </td><td>      0.0841<sup>***</sup></td><td>                          </td><td>                          </td></tr>\n",
       "<tr><td>                    </td><td>     (12.09)              </td><td>                          </td><td>                          </td></tr>\n",
       "<tr><td colspan=4>&nbsp;</td></tr>\n",
       "<tr><td>=1 if female        </td><td>      -0.337<sup>***</sup></td><td>                          </td><td>                          </td></tr>\n",
       "<tr><td>                    </td><td>     (-9.28)              </td><td>                          </td><td>                          </td></tr>\n",
       "<tr><td colspan=4>&nbsp;</td></tr>\n",
       "<tr><td>years potential experience</td><td>      0.0389<sup>***</sup></td><td>                          </td><td>                          </td></tr>\n",
       "<tr><td>                    </td><td>      (8.07)              </td><td>                          </td><td>                          </td></tr>\n",
       "<tr><td colspan=4>&nbsp;</td></tr>\n",
       "<tr><td>exper^2             </td><td>   -0.000686<sup>***</sup></td><td>                          </td><td>                          </td></tr>\n",
       "<tr><td>                    </td><td>     (-6.39)              </td><td>                          </td><td>                          </td></tr>\n",
       "<tr><td colspan=4>&nbsp;</td></tr>\n",
       "<tr><td>weighted_educ       </td><td>                          </td><td>      0.0801<sup>***</sup></td><td>                          </td></tr>\n",
       "<tr><td>                    </td><td>                          </td><td>     (12.45)              </td><td>                          </td></tr>\n",
       "<tr><td colspan=4>&nbsp;</td></tr>\n",
       "<tr><td>weighted_female     </td><td>                          </td><td>      -0.350<sup>***</sup></td><td>                          </td></tr>\n",
       "<tr><td>                    </td><td>                          </td><td>     (-9.89)              </td><td>                          </td></tr>\n",
       "<tr><td colspan=4>&nbsp;</td></tr>\n",
       "<tr><td>weighted_exper      </td><td>                          </td><td>      0.0367<sup>***</sup></td><td>                          </td></tr>\n",
       "<tr><td>                    </td><td>                          </td><td>      (8.03)              </td><td>                          </td></tr>\n",
       "<tr><td colspan=4>&nbsp;</td></tr>\n",
       "<tr><td>weighted_expersq    </td><td>                          </td><td>   -0.000632<sup>***</sup></td><td>                          </td></tr>\n",
       "<tr><td>                    </td><td>                          </td><td>     (-6.39)              </td><td>                          </td></tr>\n",
       "<tr><td colspan=4>&nbsp;</td></tr>\n",
       "<tr><td>w                   </td><td>                          </td><td>       0.456<sup>***</sup></td><td>                          </td></tr>\n",
       "<tr><td>                    </td><td>                          </td><td>      (4.99)              </td><td>                          </td></tr>\n",
       "<tr><td colspan=4>&nbsp;</td></tr>\n",
       "<tr><td>fgls_weighted_educ  </td><td>                          </td><td>                          </td><td>      0.0752<sup>***</sup></td></tr>\n",
       "<tr><td>                    </td><td>                          </td><td>                          </td><td>     (11.47)              </td></tr>\n",
       "<tr><td colspan=4>&nbsp;</td></tr>\n",
       "<tr><td>fgls_weighted_female</td><td>                          </td><td>                          </td><td>      -0.286<sup>***</sup></td></tr>\n",
       "<tr><td>                    </td><td>                          </td><td>                          </td><td>     (-8.06)              </td></tr>\n",
       "<tr><td colspan=4>&nbsp;</td></tr>\n",
       "<tr><td>fgls_weighted_exper </td><td>                          </td><td>                          </td><td>      0.0389<sup>***</sup></td></tr>\n",
       "<tr><td>                    </td><td>                          </td><td>                          </td><td>      (8.62)              </td></tr>\n",
       "<tr><td colspan=4>&nbsp;</td></tr>\n",
       "<tr><td>fgls_weighted_expersq</td><td>                          </td><td>                          </td><td>   -0.000693<sup>***</sup></td></tr>\n",
       "<tr><td>                    </td><td>                          </td><td>                          </td><td>     (-6.90)              </td></tr>\n",
       "<tr><td colspan=4>&nbsp;</td></tr>\n",
       "<tr><td>fgls_weight         </td><td>                          </td><td>                          </td><td>       0.476<sup>***</sup></td></tr>\n",
       "<tr><td>                    </td><td>                          </td><td>                          </td><td>      (5.15)              </td></tr>\n",
       "<tr><td colspan=4>&nbsp;</td></tr>\n",
       "<tr><td>Constant            </td><td>       0.390<sup>***</sup></td><td>                          </td><td>                          </td></tr>\n",
       "<tr><td>                    </td><td>      (3.82)              </td><td>                          </td><td>                          </td></tr>\n",
       "<tr><td colspan=4><hr></td></tr>\n",
       "<tr><td>Observations        </td><td>         526              </td><td>         524              </td><td>         526              </td></tr>\n",
       "<tr><td colspan=4><hr></td></tr>\n",
       "<tr><td colspan=4>\n",
       "<i>t</i> statistics in parentheses\n",
       "<br /><sup>*</sup> <i>p</i> < 0.05, <sup>**</sup> <i>p</i> < 0.01, <sup>***</sup> <i>p</i> < 0.001\n",
       "</td></tr>\n",
       "</table>\n",
       "\n"
      ],
      "text/plain": [
       "This front-end or document format cannot display HTML"
      ]
     },
     "metadata": {},
     "output_type": "display_data"
    }
   ],
   "source": [
    "%html\n",
    "esttab, label title(\"OLS, WLS, FGLS Table\") html"
   ]
  }
 ],
 "metadata": {
  "kernelspec": {
   "display_name": "Stata",
   "language": "stata",
   "name": "stata"
  },
  "language_info": {
   "codemirror_mode": "stata",
   "file_extension": ".do",
   "mimetype": "text/x-stata",
   "name": "stata",
   "version": "15.1"
  }
 },
 "nbformat": 4,
 "nbformat_minor": 4
}
