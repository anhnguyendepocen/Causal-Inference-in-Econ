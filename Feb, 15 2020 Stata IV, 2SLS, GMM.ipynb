{
 "cells": [
  {
   "cell_type": "markdown",
   "metadata": {},
   "source": [
    "---\n",
    "# <font color = blue> Feb 15, 2020 Stata IV, 2SLS, GMM with ivreg pkg\n",
    "---\n",
    "* Name: Jikhan Jeong\n",
    "* Part 1: IV (2SLS base just-identified and over-identified)\n",
    "* Ref: http://www3.grips.ac.jp/~yamanota/yamanoCourses.htm (lecture, code, data source) **iverg** IV 2SLS, 2SLS applied and se is fixed\n",
    "* Part 2: 2SLS and GMM\n",
    "* Ref: https://www.soderbom.net/metrix2.htm (lcture, code source) : iverg2 2sls and GMM\n",
    "* Ref: https://kylebarron.dev/stata_kernel/ (stata kernel)\n",
    "* Data: CARD.dta | Wooldridge probm 5.4-6.1\n",
    "---            \n",
    "    "
   ]
  },
  {
   "cell_type": "markdown",
   "metadata": {},
   "source": [
    "# Data Preparing\n",
    "---"
   ]
  },
  {
   "cell_type": "code",
   "execution_count": 1,
   "metadata": {},
   "outputs": [],
   "source": [
    "use \"card.dta\", clear"
   ]
  },
  {
   "cell_type": "code",
   "execution_count": 4,
   "metadata": {},
   "outputs": [
    {
     "data": {
      "text/html": [
       "<div>\n",
       "<style scoped>\n",
       "    .dataframe tbody tr th:only-of-type {\n",
       "        vertical-align: middle;\n",
       "    }\n",
       "\n",
       "    .dataframe tbody tr th {\n",
       "        vertical-align: top;\n",
       "    }\n",
       "\n",
       "    .dataframe thead th {\n",
       "        text-align: right;\n",
       "    }\n",
       "</style>\n",
       "<table border=\"1\" class=\"dataframe\">\n",
       "  <thead>\n",
       "    <tr style=\"text-align: right;\">\n",
       "      <th></th>\n",
       "      <th>id</th>\n",
       "      <th>nearc2</th>\n",
       "      <th>nearc4</th>\n",
       "      <th>educ</th>\n",
       "      <th>age</th>\n",
       "      <th>fatheduc</th>\n",
       "      <th>motheduc</th>\n",
       "      <th>weight</th>\n",
       "      <th>momdad14</th>\n",
       "      <th>sinmom14</th>\n",
       "      <th>step14</th>\n",
       "      <th>reg661</th>\n",
       "      <th>reg662</th>\n",
       "      <th>reg663</th>\n",
       "      <th>reg664</th>\n",
       "      <th>reg665</th>\n",
       "      <th>reg666</th>\n",
       "      <th>reg667</th>\n",
       "      <th>reg668</th>\n",
       "      <th>reg669</th>\n",
       "      <th>south66</th>\n",
       "      <th>black</th>\n",
       "      <th>smsa</th>\n",
       "      <th>south</th>\n",
       "      <th>smsa66</th>\n",
       "      <th>wage</th>\n",
       "      <th>enroll</th>\n",
       "      <th>KWW</th>\n",
       "      <th>IQ</th>\n",
       "      <th>married</th>\n",
       "      <th>libcrd14</th>\n",
       "      <th>exper</th>\n",
       "      <th>lwage</th>\n",
       "      <th>expersq</th>\n",
       "    </tr>\n",
       "  </thead>\n",
       "  <tbody>\n",
       "    <tr>\n",
       "      <th>1</th>\n",
       "      <td>2</td>\n",
       "      <td>0</td>\n",
       "      <td>0</td>\n",
       "      <td>7</td>\n",
       "      <td>29</td>\n",
       "      <td>.</td>\n",
       "      <td>.</td>\n",
       "      <td>158413</td>\n",
       "      <td>1</td>\n",
       "      <td>0</td>\n",
       "      <td>0</td>\n",
       "      <td>1</td>\n",
       "      <td>0</td>\n",
       "      <td>0</td>\n",
       "      <td>0</td>\n",
       "      <td>0</td>\n",
       "      <td>0</td>\n",
       "      <td>0</td>\n",
       "      <td>0</td>\n",
       "      <td>0</td>\n",
       "      <td>0</td>\n",
       "      <td>1</td>\n",
       "      <td>1</td>\n",
       "      <td>0</td>\n",
       "      <td>1</td>\n",
       "      <td>548</td>\n",
       "      <td>0</td>\n",
       "      <td>15</td>\n",
       "      <td>.</td>\n",
       "      <td>1</td>\n",
       "      <td>0</td>\n",
       "      <td>16</td>\n",
       "      <td>6.3062754</td>\n",
       "      <td>256</td>\n",
       "    </tr>\n",
       "  </tbody>\n",
       "</table>\n",
       "</div>"
      ],
      "text/plain": [
       "\n",
       "     +-------------------------------------------------------------------------------------------------------------------------------------------------------------------------------------------------------------------------------------------------------+\n",
       "  1. | id | nearc2 | nearc4 | educ | age | fatheduc | motheduc | weight | momdad14 | sinmom14 | step14 | reg661 | reg662 | reg663 | reg664 | reg665 | reg666 | reg667 | reg668 | reg669 | south66 | black | smsa | south | smsa66 | wage | enroll | KWW | IQ |\n",
       "     |  2 |      0 |      0 |    7 |  29 |        . |        . | 158413 |        1 |        0 |      0 |      1 |      0 |      0 |      0 |      0 |      0 |      0 |      0 |      0 |       0 |     1 |    1 |     0 |      1 |  548 |      0 |  15 |  . |\n",
       "     |-------------------------------------------------------------------------------------------------------------------------------------------------------------------------------------------------------------------------------------------------------|\n",
       "     |                    married                     |                    libcrd14                     |                     exper                     |                        lwage                     |                     expersq                     |\n",
       "     |                          1                     |                           0                     |                        16                     |                     6.306275                     |                         256                     |\n",
       "     +-------------------------------------------------------------------------------------------------------------------------------------------------------------------------------------------------------------------------------------------------------+\n",
       "\n"
      ]
     },
     "metadata": {},
     "output_type": "display_data"
    }
   ],
   "source": [
    "%head 1"
   ]
  },
  {
   "cell_type": "code",
   "execution_count": 5,
   "metadata": {},
   "outputs": [
    {
     "name": "stdout",
     "output_type": "stream",
     "text": [
      "\n",
      "    Variable |        Obs        Mean    Std. Dev.       Min        Max\n",
      "-------------+---------------------------------------------------------\n",
      "          id |      3,010    2581.749    1500.539          2       5225\n",
      "      nearc2 |      3,010    .4408638    .4965731          0          1\n",
      "      nearc4 |      3,010    .6820598    .4657535          0          1\n",
      "        educ |      3,010    13.26346    2.676913          1         18\n",
      "         age |      3,010     28.1196    3.137004         24         34\n",
      "-------------+---------------------------------------------------------\n",
      "    fatheduc |      2,320    10.00345    3.720737          0         18\n",
      "    motheduc |      2,657    10.34814    3.179671          0         18\n",
      "      weight |      3,010    321185.3    170645.8      75607    1752340\n",
      "    momdad14 |      3,010    .7893688    .4078247          0          1\n",
      "    sinmom14 |      3,010    .1006645    .3009339          0          1\n",
      "-------------+---------------------------------------------------------\n",
      "      step14 |      3,010    .0388704    .1933182          0          1\n",
      "      reg661 |      3,010    .0465116    .2106253          0          1\n",
      "      reg662 |      3,010    .1607973     .367405          0          1\n",
      "      reg663 |      3,010    .1956811      .39679          0          1\n",
      "      reg664 |      3,010    .0641196    .2450066          0          1\n",
      "-------------+---------------------------------------------------------\n",
      "      reg665 |      3,010    .2083056     .406164          0          1\n",
      "      reg666 |      3,010    .0960133    .2946584          0          1\n",
      "      reg667 |      3,010    .1099668    .3129003          0          1\n",
      "      reg668 |      3,010    .0282392     .165683          0          1\n",
      "      reg669 |      3,010    .0903654    .2867522          0          1\n",
      "-------------+---------------------------------------------------------\n",
      "     south66 |      3,010    .4142857    .4926801          0          1\n",
      "       black |      3,010    .2335548    .4231624          0          1\n",
      "        smsa |      3,010    .7129568    .4524571          0          1\n",
      "       south |      3,010    .4036545    .4907113          0          1\n",
      "      smsa66 |      3,010    .6495017    .4772053          0          1\n",
      "-------------+---------------------------------------------------------\n",
      "        wage |      3,010    577.2824    262.9583        100       2404\n",
      "      enroll |      3,010    .0923588    .2895799          0          1\n",
      "         KWW |      2,963    33.54067    8.611619          4         56\n",
      "          IQ |      2,061    102.4498    15.42376         50        149\n",
      "     married |      3,003    2.271395    2.066823          1          6\n",
      "-------------+---------------------------------------------------------\n",
      "    libcrd14 |      2,997     .674341    .4686987          0          1\n",
      "       exper |      3,010    8.856146    4.141672          0         23\n",
      "       lwage |      3,010    6.261832    .4437976    4.60517   7.784889\n",
      "     expersq |      3,010    95.57907    84.61831          0        529\n"
     ]
    }
   ],
   "source": [
    "sum"
   ]
  },
  {
   "cell_type": "markdown",
   "metadata": {},
   "source": [
    "---\n",
    "# <font color=blue> Part1:  IV and 2SLS\n",
    "* Ref: https://github.com/Jikhan-Jeong/Causal-Inference-in-Econ/blob/master/Nov%2018%2C%202019%20IV%20and%202SLS.do (My Github)\n",
    "* Ref: http://www3.grips.ac.jp/~yamanota/Lecture%20Note%208%20to%2010%202SLS%20&%20others.pdf (Original Lecture Note by Prof. Takashi Yamano)\n",
    "---"
   ]
  },
  {
   "cell_type": "markdown",
   "metadata": {},
   "source": [
    "### <font color=blue> IV\n",
    "* **educ** is endogeneous variable \n",
    "* **x** = correlated with error, E(Xe)= non-zero\n",
    "---\n",
    "#### <font color=blue> Simple OLS "
   ]
  },
  {
   "cell_type": "code",
   "execution_count": 6,
   "metadata": {},
   "outputs": [
    {
     "name": "stdout",
     "output_type": "stream",
     "text": [
      "\n",
      "      Source |       SS           df       MS      Number of obs   =     3,010\n",
      "-------------+----------------------------------   F(1, 3008)      =    329.54\n",
      "       Model |  58.5153704         1  58.5153704   Prob > F        =    0.0000\n",
      "    Residual |  534.126274     3,008  .177568575   R-squared       =    0.0987\n",
      "-------------+----------------------------------   Adj R-squared   =    0.0984\n",
      "       Total |  592.641645     3,009  .196956346   Root MSE        =    .42139\n",
      "\n",
      "------------------------------------------------------------------------------\n",
      "       lwage |      Coef.   Std. Err.      t    P>|t|     [95% Conf. Interval]\n",
      "-------------+----------------------------------------------------------------\n",
      "        educ |   .0520942   .0028697    18.15   0.000     .0464674     .057721\n",
      "       _cons |   5.570882   .0388295   143.47   0.000     5.494747    5.647017\n",
      "------------------------------------------------------------------------------\n"
     ]
    }
   ],
   "source": [
    "reg lwage educ"
   ]
  },
  {
   "cell_type": "markdown",
   "metadata": {},
   "source": [
    "---\n",
    "#### <font color=blue> IV Validity Test (Just identification)\n",
    "* Check IV's validity (z is correlated with x by running regress x on z\n",
    "* x ~ z, z= nearc4 (IV) z is significant\n",
    "* educ ~ nearc4 is 0.01 statistcally significant at 0.01\n",
    "---"
   ]
  },
  {
   "cell_type": "code",
   "execution_count": 12,
   "metadata": {},
   "outputs": [
    {
     "name": "stdout",
     "output_type": "stream",
     "text": [
      "(obs=3,010)\n",
      "\n",
      "             |     educ   nearc4\n",
      "-------------+------------------\n",
      "        educ |   1.0000\n",
      "      nearc4 |   0.1442   1.0000\n",
      "\n"
     ]
    }
   ],
   "source": [
    "corr educ nearc4"
   ]
  },
  {
   "cell_type": "code",
   "execution_count": 13,
   "metadata": {},
   "outputs": [
    {
     "name": "stdout",
     "output_type": "stream",
     "text": [
      "\n",
      "      Source |       SS           df       MS      Number of obs   =     3,010\n",
      "-------------+----------------------------------   F(1, 3008)      =     63.91\n",
      "       Model |  448.604204         1  448.604204   Prob > F        =    0.0000\n",
      "    Residual |  21113.4759     3,008  7.01910767   R-squared       =    0.0208\n",
      "-------------+----------------------------------   Adj R-squared   =    0.0205\n",
      "       Total |  21562.0801     3,009  7.16586243   Root MSE        =    2.6494\n",
      "\n",
      "------------------------------------------------------------------------------\n",
      "        educ |      Coef.   Std. Err.      t    P>|t|     [95% Conf. Interval]\n",
      "-------------+----------------------------------------------------------------\n",
      "      nearc4 |    .829019   .1036988     7.99   0.000     .6256912    1.032347\n",
      "       _cons |   12.69801   .0856416   148.27   0.000     12.53009    12.86594\n",
      "------------------------------------------------------------------------------\n"
     ]
    }
   ],
   "source": [
    "reg educ nearc4 "
   ]
  },
  {
   "cell_type": "markdown",
   "metadata": {},
   "source": [
    "---\n",
    "#### <font color=blue> IV Estimation: just identification case (2SLS)\n",
    "* number of Endo variable = number IV (endo var = educ, IV = nearc4)\n",
    "* standerror using iv is wrong\n",
    "* but following ivreg fixed it in the results\n",
    "* same coefficient with OLS but stand error is smaller .0028697 (OLS) >  .1036988 (IV)\n",
    "* **iverg** command uses 2SLS and correct its standard error\n",
    "---"
   ]
  },
  {
   "cell_type": "code",
   "execution_count": 17,
   "metadata": {},
   "outputs": [
    {
     "name": "stdout",
     "output_type": "stream",
     "text": [
      "\n",
      "Instrumental variables (2SLS) regression\n",
      "\n",
      "      Source |       SS           df       MS      Number of obs   =     3,010\n",
      "-------------+----------------------------------   F(1, 3008)      =     51.17\n",
      "       Model |  -340.11155         1  -340.11155   Prob > F        =    0.0000\n",
      "    Residual |  932.753194     3,008  .310090823   R-squared       =         .\n",
      "-------------+----------------------------------   Adj R-squared   =         .\n",
      "       Total |  592.641645     3,009  .196956346   Root MSE        =    .55686\n",
      "\n",
      "------------------------------------------------------------------------------\n",
      "       lwage |      Coef.   Std. Err.      t    P>|t|     [95% Conf. Interval]\n",
      "-------------+----------------------------------------------------------------\n",
      "        educ |   .1880626   .0262913     7.15   0.000     .1365118    .2396135\n",
      "       _cons |   3.767472   .3488617    10.80   0.000      3.08344    4.451503\n",
      "------------------------------------------------------------------------------\n",
      "Instrumented:  educ\n",
      "Instruments:   nearc4\n",
      "------------------------------------------------------------------------------\n"
     ]
    }
   ],
   "source": [
    "ivreg lwage (educ=nearc4)"
   ]
  },
  {
   "cell_type": "markdown",
   "metadata": {},
   "source": [
    "---\n",
    "### <font color=blue> 2SLS : Over-identification\n",
    "---\n",
    "#### <font color=blue> OLS (educ = endo variable) \n",
    "* edu coefficient: .074009 edu sd:   .0035054    adR:  0.2891\n",
    "---"
   ]
  },
  {
   "cell_type": "code",
   "execution_count": 18,
   "metadata": {},
   "outputs": [
    {
     "name": "stdout",
     "output_type": "stream",
     "text": [
      "\n",
      "      Source |       SS           df       MS      Number of obs   =     3,010\n",
      "-------------+----------------------------------   F(6, 3003)      =    204.93\n",
      "       Model |  172.165628         6  28.6942714   Prob > F        =    0.0000\n",
      "    Residual |  420.476016     3,003  .140018653   R-squared       =    0.2905\n",
      "-------------+----------------------------------   Adj R-squared   =    0.2891\n",
      "       Total |  592.641645     3,009  .196956346   Root MSE        =    .37419\n",
      "\n",
      "------------------------------------------------------------------------------\n",
      "       lwage |      Coef.   Std. Err.      t    P>|t|     [95% Conf. Interval]\n",
      "-------------+----------------------------------------------------------------\n",
      "        educ |    .074009   .0035054    21.11   0.000     .0671357    .0808823\n",
      "       exper |   .0835958   .0066478    12.57   0.000     .0705612    .0966305\n",
      "     expersq |  -.0022409   .0003178    -7.05   0.000    -.0028641   -.0016177\n",
      "       black |  -.1896315   .0176266   -10.76   0.000    -.2241929   -.1550702\n",
      "        smsa |    .161423   .0155733    10.37   0.000     .1308876    .1919583\n",
      "       south |  -.1248615   .0151182    -8.26   0.000    -.1545046   -.0952184\n",
      "       _cons |   4.733664   .0676026    70.02   0.000     4.601112    4.866216\n",
      "------------------------------------------------------------------------------\n"
     ]
    }
   ],
   "source": [
    "reg lwage educ exper expersq black smsa south "
   ]
  },
  {
   "cell_type": "markdown",
   "metadata": {},
   "source": [
    "---\n",
    "#### <font color=blue> 2 IVs :         \n",
    "* Instrumented:  educ\n",
    "* Instruments:   nearc2 nearc4\n",
    "* edu coefficient: .1608487 edu sd:   .0486291    adR:  0.1438\n",
    "---"
   ]
  },
  {
   "cell_type": "code",
   "execution_count": 19,
   "metadata": {},
   "outputs": [
    {
     "name": "stdout",
     "output_type": "stream",
     "text": [
      "\n",
      "Instrumental variables (2SLS) regression\n",
      "\n",
      "      Source |       SS           df       MS      Number of obs   =     3,010\n",
      "-------------+----------------------------------   F(6, 3003)      =    110.30\n",
      "       Model |  86.2367703         6  14.3727951   Prob > F        =    0.0000\n",
      "    Residual |  506.404874     3,003  .168632992   R-squared       =    0.1455\n",
      "-------------+----------------------------------   Adj R-squared   =    0.1438\n",
      "       Total |  592.641645     3,009  .196956346   Root MSE        =    .41065\n",
      "\n",
      "------------------------------------------------------------------------------\n",
      "       lwage |      Coef.   Std. Err.      t    P>|t|     [95% Conf. Interval]\n",
      "-------------+----------------------------------------------------------------\n",
      "        educ |   .1608487   .0486291     3.31   0.001      .065499    .2561984\n",
      "       exper |   .1192112   .0211779     5.63   0.000     .0776866    .1607358\n",
      "     expersq |  -.0023052   .0003507    -6.57   0.000    -.0029928   -.0016177\n",
      "       black |  -.1019726   .0526187    -1.94   0.053    -.2051449    .0011997\n",
      "        smsa |   .1165736   .0303135     3.85   0.000     .0571362    .1760109\n",
      "       south |  -.0951187   .0234721    -4.05   0.000    -.1411418   -.0490956\n",
      "       _cons |   3.272102   .8192563     3.99   0.000     1.665742    4.878462\n",
      "------------------------------------------------------------------------------\n",
      "Instrumented:  educ\n",
      "Instruments:   exper expersq black smsa south nearc2 nearc4\n",
      "------------------------------------------------------------------------------\n"
     ]
    }
   ],
   "source": [
    "ivreg lwage (educ= nearc2 nearc4) exper expersq black smsa south"
   ]
  },
  {
   "cell_type": "markdown",
   "metadata": {},
   "source": [
    "---\n",
    "#### <font color=blue> 4 IVs:                      \n",
    "* edu coefficient: .1000713 edu sd:   .01263      adR: 0.2507 ******** lowest sd. \n",
    "* Adjusted-R square increased a lot\n",
    "---"
   ]
  },
  {
   "cell_type": "code",
   "execution_count": 20,
   "metadata": {},
   "outputs": [
    {
     "name": "stdout",
     "output_type": "stream",
     "text": [
      "\n",
      "Instrumental variables (2SLS) regression\n",
      "\n",
      "      Source |       SS           df       MS      Number of obs   =     2,220\n",
      "-------------+----------------------------------   F(6, 2213)      =     83.66\n",
      "       Model |  108.419494         6  18.0699157   Prob > F        =    0.0000\n",
      "    Residual |  320.580009     2,213  .144862182   R-squared       =    0.2527\n",
      "-------------+----------------------------------   Adj R-squared   =    0.2507\n",
      "       Total |  428.999503     2,219  .193330105   Root MSE        =    .38061\n",
      "\n",
      "------------------------------------------------------------------------------\n",
      "       lwage |      Coef.   Std. Err.      t    P>|t|     [95% Conf. Interval]\n",
      "-------------+----------------------------------------------------------------\n",
      "        educ |   .1000713     .01263     7.92   0.000     .0753034    .1248392\n",
      "       exper |   .0989441    .009482    10.43   0.000     .0803496    .1175385\n",
      "     expersq |   -.002449   .0004013    -6.10   0.000    -.0032359   -.0016621\n",
      "       black |  -.1504635   .0259113    -5.81   0.000    -.2012765   -.0996505\n",
      "        smsa |    .150854   .0195975     7.70   0.000     .1124226    .1892854\n",
      "       south |  -.1072406   .0180661    -5.94   0.000    -.1426688   -.0718123\n",
      "       _cons |    4.26178    .216812    19.66   0.000     3.836604    4.686956\n",
      "------------------------------------------------------------------------------\n",
      "Instrumented:  educ\n",
      "Instruments:   exper expersq black smsa south nearc2 nearc4 fatheduc\n",
      "               motheduc\n",
      "------------------------------------------------------------------------------\n"
     ]
    }
   ],
   "source": [
    "ivreg lwage (educ= nearc2 nearc4 fatheduc motheduc) exper expersq black smsa south"
   ]
  },
  {
   "cell_type": "markdown",
   "metadata": {},
   "source": [
    "---\n",
    "# <font color = blue> 2. 2SLS and GMM with iverg2\n",
    "* Ref: https://www.soderbom.net/metrix2.htm (original source by MÂns Sˆderbom)\n",
    "* Ref : https://github.com/Jikhan-Jeong/Causal-Inference-in-Econ/blob/master/Nov%2022%2C%202019%202SLS%20and%20GMM.do (my github, do file)\n",
    "---"
   ]
  },
  {
   "cell_type": "markdown",
   "metadata": {},
   "source": [
    "#### <font color=blue> 1. down load user written package: iverg2_____________________________________"
   ]
  },
  {
   "cell_type": "code",
   "execution_count": 22,
   "metadata": {},
   "outputs": [
    {
     "name": "stdout",
     "output_type": "stream",
     "text": [
      "\n",
      "checking ivreg2 consistency and verifying not already installed...\n",
      "installing into /home/jikhan.jeong/ado/plus/...\n",
      "installation complete.\n",
      "\n",
      "checking ranktest consistency and verifying not already installed...\n",
      "installing into /home/jikhan.jeong/ado/plus/...\n",
      "installation complete.\n"
     ]
    }
   ],
   "source": [
    "ssc install ivreg2\n",
    "ssc install ranktest"
   ]
  },
  {
   "cell_type": "markdown",
   "metadata": {},
   "source": [
    "---\n",
    "####  <font color=blue> 2. summary statistics_________________________________________________________\n",
    "* lwage is a dependent var\n",
    "* educ is a endo var, because it may corrleated with unobserved error (=ability)\n",
    "* nearc2 is a IV\n",
    "---"
   ]
  },
  {
   "cell_type": "code",
   "execution_count": 23,
   "metadata": {},
   "outputs": [
    {
     "name": "stdout",
     "output_type": "stream",
     "text": [
      "\n",
      "   stats |     lwage      educ    nearc2\n",
      "---------+------------------------------\n",
      "    mean |  6.261832  13.26346  .4408638\n",
      "       N |      3010      3010      3010\n",
      "     min |   4.60517         1         0\n",
      "     max |  7.784889        18         1\n",
      "     p50 |  6.286928        13         0\n",
      "----------------------------------------\n"
     ]
    }
   ],
   "source": [
    "tabstat lwage educ nearc2 , s(mean N min max p50)"
   ]
  },
  {
   "cell_type": "markdown",
   "metadata": {},
   "source": [
    "---\n",
    "#### <font color=blue> 3. OLS________________________________________________________________________\n",
    "* $ educ |   coef .0520942   sd .0028697 \n",
    "---"
   ]
  },
  {
   "cell_type": "code",
   "execution_count": 25,
   "metadata": {},
   "outputs": [
    {
     "name": "stdout",
     "output_type": "stream",
     "text": [
      "\n",
      "      Source |       SS           df       MS      Number of obs   =     3,010\n",
      "-------------+----------------------------------   F(1, 3008)      =    329.54\n",
      "       Model |  58.5153704         1  58.5153704   Prob > F        =    0.0000\n",
      "    Residual |  534.126274     3,008  .177568575   R-squared       =    0.0987\n",
      "-------------+----------------------------------   Adj R-squared   =    0.0984\n",
      "       Total |  592.641645     3,009  .196956346   Root MSE        =    .42139\n",
      "\n",
      "------------------------------------------------------------------------------\n",
      "       lwage |      Coef.   Std. Err.      t    P>|t|     [95% Conf. Interval]\n",
      "-------------+----------------------------------------------------------------\n",
      "        educ |   .0520942   .0028697    18.15   0.000     .0464674     .057721\n",
      "       _cons |   5.570882   .0388295   143.47   0.000     5.494747    5.647017\n",
      "------------------------------------------------------------------------------\n"
     ]
    }
   ],
   "source": [
    "reg lwage educ "
   ]
  },
  {
   "cell_type": "markdown",
   "metadata": {},
   "source": [
    "---\n",
    "#### <font color=blue> 4. 1st Stage and IV reg_______________________________________________________\n",
    "* (1st result) 1 stage regression : IV must be significant endo var ~ IV + other Xs\n",
    "* (2st result) IV (2SLS) estimation\n",
    "--- \n",
    "#### result\n",
    "*  (1stage) nearc2 |   .2552584   .0981804     2.60   p-value 0.009 1st, Y= educ (=endo var)\n",
    "*  (IV)       educ |   .3432739   .1274114     2.69   p-value 0.007\n",
    "*  (OLS)      educ |  coef |.0520942  << (IV) educ|coeff |.3432739  \n",
    "*  (OLS)      educ |  sd   |.0028697  << (IV) educ|coeff |.1274114  \n",
    "---"
   ]
  },
  {
   "cell_type": "code",
   "execution_count": 29,
   "metadata": {},
   "outputs": [
    {
     "name": "stdout",
     "output_type": "stream",
     "text": [
      "\n",
      "First-stage regressions\n",
      "-----------------------\n",
      "\n",
      "\n",
      "First-stage regression of educ:\n",
      "\n",
      "Statistics consistent for homoskedasticity only\n",
      "Number of obs =                   3010\n",
      "------------------------------------------------------------------------------\n",
      "        educ |      Coef.   Std. Err.      t    P>|t|     [95% Conf. Interval]\n",
      "-------------+----------------------------------------------------------------\n",
      "      nearc2 |   .2552584   .0981804     2.60   0.009     .0627509    .4477659\n",
      "       _cons |   13.15092   .0651894   201.73   0.000      13.0231    13.27874\n",
      "------------------------------------------------------------------------------\n",
      "F test of excluded instruments:\n",
      "  F(  1,  3008) =     6.76\n",
      "  Prob > F      =   0.0094\n",
      "Sanderson-Windmeijer multivariate F test of excluded instruments:\n",
      "  F(  1,  3008) =     6.76\n",
      "  Prob > F      =   0.0094\n",
      "\n",
      "\n",
      "\n",
      "Summary results for first-stage regressions\n",
      "-------------------------------------------\n",
      "\n",
      "                                           (Underid)            (Weak id)\n",
      "Variable     | F(  1,  3008)  P-val | SW Chi-sq(  1) P-val | SW F(  1,  3008)\n",
      "educ         |       6.76    0.0094 |        6.76   0.0093 |        6.76\n",
      "\n",
      "Stock-Yogo weak ID F test critical values for single endogenous regressor:\n",
      "                                   10% maximal IV size             16.38\n",
      "                                   15% maximal IV size              8.96\n",
      "                                   20% maximal IV size              6.66\n",
      "                                   25% maximal IV size              5.53\n",
      "Source: Stock-Yogo (2005).  Reproduced by permission.\n",
      "NB: Critical values are for Sanderson-Windmeijer F statistic.\n",
      "\n",
      "Underidentification test\n",
      "Ho: matrix of reduced form coefficients has rank=K1-1 (underidentified)\n",
      "Ha: matrix has rank=K1 (identified)\n",
      "Anderson canon. corr. LM statistic       Chi-sq(1)=6.75     P-val=0.0094\n",
      "\n",
      "Weak identification test\n",
      "Ho: equation is weakly identified\n",
      "Cragg-Donald Wald F statistic                                       6.76\n",
      "\n",
      "Stock-Yogo weak ID test critical values for K1=1 and L1=1:\n",
      "                                   10% maximal IV size             16.38\n",
      "                                   15% maximal IV size              8.96\n",
      "                                   20% maximal IV size              6.66\n",
      "                                   25% maximal IV size              5.53\n",
      "Source: Stock-Yogo (2005).  Reproduced by permission.\n",
      "\n",
      "Weak-instrument-robust inference\n",
      "Tests of joint significance of endogenous regressors B1 in main equation\n",
      "Ho: B1=0 and orthogonality conditions are valid\n",
      "Anderson-Rubin Wald test           F(1,3008)=     29.20     P-val=0.0000\n",
      "Anderson-Rubin Wald test           Chi-sq(1)=     29.21     P-val=0.0000\n",
      "Stock-Wright LM S statistic        Chi-sq(1)=     28.93     P-val=0.0000\n",
      "\n",
      "Number of observations               N  =       3010\n",
      "Number of regressors                 K  =          2\n",
      "Number of endogenous regressors      K1 =          1\n",
      "Number of instruments                L  =          2\n",
      "Number of excluded instruments       L1 =          1\n",
      "\n",
      "IV (2SLS) estimation\n",
      "--------------------\n",
      "\n",
      "Estimates efficient for homoskedasticity only\n",
      "Statistics consistent for homoskedasticity only\n",
      "\n",
      "                                                      Number of obs =     3010\n",
      "                                                      F(  1,  3008) =     7.25\n",
      "                                                      Prob > F      =   0.0071\n",
      "Total (centered) SS     =  592.6416447                Centered R2   =  -2.9860\n",
      "Total (uncentered) SS   =  118616.3653                Uncentered R2 =   0.9801\n",
      "Residual SS             =  2362.280102                Root MSE      =    .8859\n",
      "\n",
      "------------------------------------------------------------------------------\n",
      "       lwage |      Coef.   Std. Err.      z    P>|z|     [95% Conf. Interval]\n",
      "-------------+----------------------------------------------------------------\n",
      "        educ |   .3432739   .1274114     2.69   0.007     .0935522    .5929956\n",
      "       _cons |   1.708834   1.689992     1.01   0.312     -1.60349    5.021158\n",
      "------------------------------------------------------------------------------\n",
      "Underidentification test (Anderson canon. corr. LM statistic):           6.749\n",
      "                                                   Chi-sq(1) P-val =    0.0094\n",
      "------------------------------------------------------------------------------\n",
      "Weak identification test (Cragg-Donald Wald F statistic):                6.759\n",
      "Stock-Yogo weak ID test critical values: 10% maximal IV size             16.38\n",
      "                                         15% maximal IV size              8.96\n",
      "                                         20% maximal IV size              6.66\n",
      "                                         25% maximal IV size              5.53\n",
      "Source: Stock-Yogo (2005).  Reproduced by permission.\n",
      "------------------------------------------------------------------------------\n",
      "Sargan statistic (overidentification test of all instruments):           0.000\n",
      "                                                 (equation exactly identified)\n",
      "------------------------------------------------------------------------------\n",
      "Instrumented:         educ\n",
      "Excluded instruments: nearc2\n",
      "------------------------------------------------------------------------------\n"
     ]
    }
   ],
   "source": [
    "ivreg2 lwage ( educ = nearc2 ), first"
   ]
  },
  {
   "cell_type": "code",
   "execution_count": 30,
   "metadata": {},
   "outputs": [
    {
     "name": "stdout",
     "output_type": "stream",
     "text": [
      "\n",
      "Summary statistics: mean\n",
      "  by categories of: nearc2 (=1 if near 2 yr college, 1966)\n",
      "\n",
      "  nearc2 |     lwage      educ\n",
      "---------+--------------------\n",
      "       0 |  6.223202  13.15092\n",
      "       1 |  6.310825  13.40618\n",
      "---------+--------------------\n",
      "   Total |  6.261832  13.26346\n",
      "------------------------------\n"
     ]
    }
   ],
   "source": [
    "tabstat lwage educ, s(mean) by(nearc2)"
   ]
  },
  {
   "cell_type": "markdown",
   "metadata": {},
   "source": [
    "---\n",
    "* IV coef with wald estimator : when # of IV = # endo var = 1 and dummy\n",
    "* [E(y|IV=1)-E(y|IV=0)] / [E(x|IV=1)-E(x|IV=0)] = 6.310825 -  6.223202)/( 13.40618- 13.15092)  = 0.34326960745 = (IV) educ$coeff 0.3432739 "
   ]
  },
  {
   "cell_type": "markdown",
   "metadata": {},
   "source": [
    "---\n",
    "#### <font color=blue> 5. 2SLS with robust endogeneous |educ |   .1033048   *.0126463     8.17   0.000 \n",
    "* Without robust option 2 IVs\n",
    "* Endogeneity test of endogenous regressors: Under H0 the specified endogenous regressors can actually be treated as exogenous\n",
    "* Endogeneity test of endogenous regressors:  Chi-sq(1) P-val =    0.0864 : okay, this part is different than the lecture note, in the lecture note reject\n",
    "---"
   ]
  },
  {
   "cell_type": "code",
   "execution_count": 37,
   "metadata": {},
   "outputs": [
    {
     "name": "stdout",
     "output_type": "stream",
     "text": [
      "Warning - collinearities detected\n",
      "Vars dropped:       south66\n",
      "\n",
      "IV (2SLS) estimation\n",
      "--------------------\n",
      "\n",
      "Estimates efficient for homoskedasticity only\n",
      "Statistics consistent for homoskedasticity only\n",
      "\n",
      "                                                      Number of obs =     3010\n",
      "                                                      F( 14,  2995) =    48.20\n",
      "                                                      Prob > F      =   0.0000\n",
      "Total (centered) SS     =  592.6416447                Centered R2   =   0.1320\n",
      "Total (uncentered) SS   =  118616.3653                Uncentered R2 =   0.9957\n",
      "Residual SS             =  514.4136847                Root MSE      =    .4134\n",
      "\n",
      "------------------------------------------------------------------------------\n",
      "       lwage |      Coef.   Std. Err.      z    P>|z|     [95% Conf. Interval]\n",
      "-------------+----------------------------------------------------------------\n",
      "        educ |    .168382   .0508209     3.31   0.001     .0687747    .2679892\n",
      "       exper |   .1234909   .0221606     5.57   0.000     .0800569     .166925\n",
      "     expersq |   -.002363   .0003543    -6.67   0.000    -.0030575   -.0016685\n",
      "       black |  -.1133767   .0510411    -2.22   0.026    -.2134154   -.0133381\n",
      "       south |  -.1409819   .0288211    -4.89   0.000    -.1974701   -.0844936\n",
      "        smsa |   .1044526    .031661     3.30   0.001     .0423983     .166507\n",
      "      reg661 |  -.1014153   .0442295    -2.29   0.022    -.1881034   -.0147271\n",
      "      reg662 |   .0025296   .0342178     0.07   0.941     -.064536    .0695952\n",
      "      reg663 |   .0492832   .0331164     1.49   0.137    -.0156238    .1141902\n",
      "      reg664 |  -.0574669   .0398466    -1.44   0.149    -.1355648    .0206311\n",
      "      reg665 |   .0536101    .048416     1.11   0.268    -.0412835    .1485037\n",
      "      reg666 |   .0710579   .0543492     1.31   0.191    -.0354647    .1775804\n",
      "      reg667 |   .0414306   .0506196     0.82   0.413     -.057782    .1406432\n",
      "      reg668 |    -.20171   .0532987    -3.78   0.000    -.3061736   -.0972464\n",
      "     south66 |          0  (omitted)\n",
      "       _cons |   3.151123   .8666924     3.64   0.000     1.452437    4.849809\n",
      "------------------------------------------------------------------------------\n",
      "Underidentification test (Anderson canon. corr. LM statistic):          17.577\n",
      "                                                   Chi-sq(2) P-val =    0.0002\n",
      "------------------------------------------------------------------------------\n",
      "Weak identification test (Cragg-Donald Wald F statistic):                8.793\n",
      "Stock-Yogo weak ID test critical values: 10% maximal IV size             19.93\n",
      "                                         15% maximal IV size             11.59\n",
      "                                         20% maximal IV size              8.75\n",
      "                                         25% maximal IV size              7.25\n",
      "Source: Stock-Yogo (2005).  Reproduced by permission.\n",
      "------------------------------------------------------------------------------\n",
      "Sargan statistic (overidentification test of all instruments):           1.227\n",
      "                                                   Chi-sq(1) P-val =    0.2679\n",
      "------------------------------------------------------------------------------\n",
      "Instrumented:         educ\n",
      "Included instruments: exper expersq black south smsa reg661 reg662 reg663\n",
      "                      reg664 reg665 reg666 reg667 reg668\n",
      "Excluded instruments: nearc2 nearc4\n",
      "Dropped collinear:    south66\n",
      "------------------------------------------------------------------------------\n"
     ]
    }
   ],
   "source": [
    "ivreg2 lwage (educ=nearc2 nearc4) exper expersq black south smsa reg661 reg662 reg663 reg664 reg665 reg666 reg667 reg668 south66"
   ]
  },
  {
   "cell_type": "markdown",
   "metadata": {},
   "source": [
    "---\n",
    "#### <font color=blue> Without robust option 4 IVs\n",
    "* Endogeneity test of endogenous regressors:  Chi-sq(1) P-val =    0.0266\n",
    "---"
   ]
  },
  {
   "cell_type": "code",
   "execution_count": 33,
   "metadata": {},
   "outputs": [
    {
     "name": "stdout",
     "output_type": "stream",
     "text": [
      "Warning - collinearities detected\n",
      "Vars dropped:       south66\n",
      "\n",
      "IV (2SLS) estimation\n",
      "--------------------\n",
      "\n",
      "Estimates efficient for homoskedasticity only\n",
      "Statistics consistent for homoskedasticity only\n",
      "\n",
      "                                                      Number of obs =     2220\n",
      "                                                      F( 14,  2205) =    37.33\n",
      "                                                      Prob > F      =   0.0000\n",
      "Total (centered) SS     =  428.9995035                Centered R2   =   0.2580\n",
      "Total (uncentered) SS   =  88133.52217                Uncentered R2 =   0.9964\n",
      "Residual SS             =  318.3363362                Root MSE      =    .3787\n",
      "\n",
      "------------------------------------------------------------------------------\n",
      "       lwage |      Coef.   Std. Err.      z    P>|z|     [95% Conf. Interval]\n",
      "-------------+----------------------------------------------------------------\n",
      "        educ |   .1033048   .0126463     8.17   0.000     .0785185    .1280912\n",
      "       exper |   .1011632   .0094696    10.68   0.000     .0826032    .1197231\n",
      "     expersq |  -.0024937   .0003997    -6.24   0.000    -.0032772   -.0017103\n",
      "       black |  -.1549154   .0261189    -5.93   0.000    -.2061075   -.1037234\n",
      "       south |  -.1210386   .0314149    -3.85   0.000    -.1826106   -.0594666\n",
      "        smsa |   .1407334   .0200711     7.01   0.000     .1013947     .180072\n",
      "      reg661 |  -.0810944   .0460838    -1.76   0.078    -.1714171    .0092282\n",
      "      reg662 |   .0055485   .0322823     0.17   0.864    -.0577237    .0688207\n",
      "      reg663 |   .0402969   .0316206     1.27   0.203    -.0216783    .1022721\n",
      "      reg664 |  -.0561783   .0406292    -1.38   0.167    -.1358101    .0234535\n",
      "      reg665 |   .0079115   .0424746     0.19   0.852    -.0753372    .0911602\n",
      "      reg666 |   .0219974   .0488073     0.45   0.652    -.0736632     .117658\n",
      "      reg667 |   .0129433   .0463937     0.28   0.780    -.0779866    .1038732\n",
      "      reg668 |  -.1615825   .0524362    -3.08   0.002    -.2643555   -.0588094\n",
      "     south66 |          0  (omitted)\n",
      "       _cons |   4.214819   .2213337    19.04   0.000     3.781013    4.648625\n",
      "------------------------------------------------------------------------------\n",
      "Underidentification test (Anderson canon. corr. LM statistic):         232.919\n",
      "                                                   Chi-sq(4) P-val =    0.0000\n",
      "------------------------------------------------------------------------------\n",
      "Weak identification test (Cragg-Donald Wald F statistic):               64.528\n",
      "Stock-Yogo weak ID test critical values:  5% maximal IV relative bias    16.85\n",
      "                                         10% maximal IV relative bias    10.27\n",
      "                                         20% maximal IV relative bias     6.71\n",
      "                                         30% maximal IV relative bias     5.34\n",
      "                                         10% maximal IV size             24.58\n",
      "                                         15% maximal IV size             13.96\n",
      "                                         20% maximal IV size             10.26\n",
      "                                         25% maximal IV size              8.31\n",
      "Source: Stock-Yogo (2005).  Reproduced by permission.\n",
      "------------------------------------------------------------------------------\n",
      "Sargan statistic (overidentification test of all instruments):           6.997\n",
      "                                                   Chi-sq(3) P-val =    0.0720\n",
      "-endog- option:\n",
      "Endogeneity test of endogenous regressors:                               4.919\n",
      "                                                   Chi-sq(1) P-val =    0.0266\n",
      "Regressors tested:    educ\n",
      "------------------------------------------------------------------------------\n",
      "Instrumented:         educ\n",
      "Included instruments: exper expersq black south smsa reg661 reg662 reg663\n",
      "                      reg664 reg665 reg666 reg667 reg668\n",
      "Excluded instruments: nearc2 nearc4 motheduc fatheduc\n",
      "Dropped collinear:    south66\n",
      "------------------------------------------------------------------------------\n"
     ]
    }
   ],
   "source": [
    "ivreg2 lwage (educ=nearc2 nearc4 motheduc fatheduc ) exper expersq black south smsa reg661 reg662 reg663 reg664 reg665 reg666 reg667 reg668 south66,endog(educ)"
   ]
  },
  {
   "cell_type": "markdown",
   "metadata": {},
   "source": [
    "---\n",
    "#### <font color=blue> With roubst option 4 IVs        \n",
    "* | educ |  .1033048   *.0131855 (bigger than unrobust = .0126463)    z  7.83   p 0.000\n",
    "---"
   ]
  },
  {
   "cell_type": "code",
   "execution_count": 35,
   "metadata": {},
   "outputs": [
    {
     "name": "stdout",
     "output_type": "stream",
     "text": [
      "Warning - collinearities detected\n",
      "Vars dropped:       south66\n",
      "\n",
      "IV (2SLS) estimation\n",
      "--------------------\n",
      "\n",
      "Estimates efficient for homoskedasticity only\n",
      "Statistics robust to heteroskedasticity\n",
      "\n",
      "                                                      Number of obs =     2220\n",
      "                                                      F( 14,  2205) =    41.01\n",
      "                                                      Prob > F      =   0.0000\n",
      "Total (centered) SS     =  428.9995035                Centered R2   =   0.2580\n",
      "Total (uncentered) SS   =  88133.52217                Uncentered R2 =   0.9964\n",
      "Residual SS             =  318.3363362                Root MSE      =    .3787\n",
      "\n",
      "------------------------------------------------------------------------------\n",
      "             |               Robust\n",
      "       lwage |      Coef.   Std. Err.      z    P>|z|     [95% Conf. Interval]\n",
      "-------------+----------------------------------------------------------------\n",
      "        educ |   .1033048   .0131855     7.83   0.000     .0774616     .129148\n",
      "       exper |   .1011632   .0097034    10.43   0.000     .0821449    .1201814\n",
      "     expersq |  -.0024937   .0004125    -6.05   0.000    -.0033021   -.0016853\n",
      "       black |  -.1549154   .0264311    -5.86   0.000    -.2067194   -.1031114\n",
      "       south |  -.1210386   .0342771    -3.53   0.000    -.1882204   -.0538568\n",
      "        smsa |   .1407334   .0194177     7.25   0.000     .1026753    .1787914\n",
      "      reg661 |  -.0810944   .0456122    -1.78   0.075    -.1704927    .0083038\n",
      "      reg662 |   .0055485   .0335724     0.17   0.869    -.0602521    .0713492\n",
      "      reg663 |   .0402969   .0324657     1.24   0.215    -.0233347    .1039284\n",
      "      reg664 |  -.0561783   .0410666    -1.37   0.171    -.1366673    .0243107\n",
      "      reg665 |   .0079115    .045164     0.18   0.861    -.0806083    .0964313\n",
      "      reg666 |   .0219974   .0490511     0.45   0.654    -.0741409    .1181357\n",
      "      reg667 |   .0129433   .0479546     0.27   0.787     -.081046    .1069326\n",
      "      reg668 |  -.1615825    .055361    -2.92   0.004     -.270088    -.053077\n",
      "     south66 |          0  (omitted)\n",
      "       _cons |   4.214819   .2296524    18.35   0.000     3.764708    4.664929\n",
      "------------------------------------------------------------------------------\n",
      "Underidentification test (Kleibergen-Paap rk LM statistic):            163.546\n",
      "                                                   Chi-sq(4) P-val =    0.0000\n",
      "------------------------------------------------------------------------------\n",
      "Weak identification test (Cragg-Donald Wald F statistic):               64.528\n",
      "                         (Kleibergen-Paap rk Wald F statistic):         54.902\n",
      "Stock-Yogo weak ID test critical values:  5% maximal IV relative bias    16.85\n",
      "                                         10% maximal IV relative bias    10.27\n",
      "                                         20% maximal IV relative bias     6.71\n",
      "                                         30% maximal IV relative bias     5.34\n",
      "                                         10% maximal IV size             24.58\n",
      "                                         15% maximal IV size             13.96\n",
      "                                         20% maximal IV size             10.26\n",
      "                                         25% maximal IV size              8.31\n",
      "Source: Stock-Yogo (2005).  Reproduced by permission.\n",
      "NB: Critical values are for Cragg-Donald F statistic and i.i.d. errors.\n",
      "------------------------------------------------------------------------------\n",
      "Hansen J statistic (overidentification test of all instruments):         6.602\n",
      "                                                   Chi-sq(3) P-val =    0.0857\n",
      "-endog- option:\n",
      "Endogeneity test of endogenous regressors:                               4.161\n",
      "                                                   Chi-sq(1) P-val =    0.0414\n",
      "Regressors tested:    educ\n",
      "------------------------------------------------------------------------------\n",
      "Instrumented:         educ\n",
      "Included instruments: exper expersq black south smsa reg661 reg662 reg663\n",
      "                      reg664 reg665 reg666 reg667 reg668\n",
      "Excluded instruments: nearc2 nearc4 motheduc fatheduc\n",
      "Dropped collinear:    south66\n",
      "------------------------------------------------------------------------------\n"
     ]
    }
   ],
   "source": [
    "ivreg2 lwage (educ=nearc2 nearc4 motheduc fatheduc ) exper expersq black south smsa reg661 reg662 reg663 reg664 reg665 reg666 reg667 reg668 south66, robust endog(educ)"
   ]
  },
  {
   "cell_type": "markdown",
   "metadata": {},
   "source": [
    "---\n",
    "#### 6. <font color = blue> GMM 2Step       \n",
    "* |educ |   *.1019251 (smaller than 2SLS robust)   .0131539 (smaller than 2SLS robust)     7.75   0.000   \n",
    "---"
   ]
  },
  {
   "cell_type": "code",
   "execution_count": 36,
   "metadata": {},
   "outputs": [
    {
     "name": "stdout",
     "output_type": "stream",
     "text": [
      "Warning - collinearities detected\n",
      "Vars dropped:       south66\n",
      "\n",
      "2-Step GMM estimation\n",
      "---------------------\n",
      "\n",
      "Estimates efficient for arbitrary heteroskedasticity\n",
      "Statistics robust to heteroskedasticity\n",
      "\n",
      "                                                      Number of obs =     2220\n",
      "                                                      F( 14,  2205) =    41.36\n",
      "                                                      Prob > F      =   0.0000\n",
      "Total (centered) SS     =  428.9995035                Centered R2   =   0.2593\n",
      "Total (uncentered) SS   =  88133.52217                Uncentered R2 =   0.9964\n",
      "Residual SS             =  317.7482854                Root MSE      =    .3783\n",
      "\n",
      "------------------------------------------------------------------------------\n",
      "             |               Robust\n",
      "       lwage |      Coef.   Std. Err.      z    P>|z|     [95% Conf. Interval]\n",
      "-------------+----------------------------------------------------------------\n",
      "        educ |   .1019251   .0131539     7.75   0.000     .0761439    .1277063\n",
      "       exper |   .1005025    .009696    10.37   0.000     .0814987    .1195062\n",
      "     expersq |  -.0024961   .0004124    -6.05   0.000    -.0033044   -.0016877\n",
      "       black |  -.1581387   .0263309    -6.01   0.000    -.2097464   -.1065311\n",
      "       south |  -.1178039   .0342158    -3.44   0.001    -.1848655   -.0507422\n",
      "        smsa |   .1418818   .0193754     7.32   0.000     .1039068    .1798568\n",
      "      reg661 |  -.0856218   .0454736    -1.88   0.060    -.1747484    .0035047\n",
      "      reg662 |   .0045187    .033528     0.13   0.893    -.0611949    .0702323\n",
      "      reg663 |   .0386119   .0324063     1.19   0.233    -.0249033    .1021271\n",
      "      reg664 |  -.0576173   .0410222    -1.40   0.160    -.1380193    .0227847\n",
      "      reg665 |   .0030289   .0451069     0.07   0.946    -.0853789    .0914368\n",
      "      reg666 |   .0115389   .0487421     0.24   0.813    -.0839939    .1070716\n",
      "      reg667 |   .0070103   .0478721     0.15   0.884    -.0868174     .100838\n",
      "      reg668 |  -.1677087   .0552444    -3.04   0.002    -.2759856   -.0594317\n",
      "     south66 |          0  (omitted)\n",
      "       _cons |   4.240126   .2290215    18.51   0.000     3.791253       4.689\n",
      "------------------------------------------------------------------------------\n",
      "Underidentification test (Kleibergen-Paap rk LM statistic):            163.546\n",
      "                                                   Chi-sq(4) P-val =    0.0000\n",
      "------------------------------------------------------------------------------\n",
      "Weak identification test (Cragg-Donald Wald F statistic):               64.528\n",
      "                         (Kleibergen-Paap rk Wald F statistic):         54.902\n",
      "Stock-Yogo weak ID test critical values:  5% maximal IV relative bias    16.85\n",
      "                                         10% maximal IV relative bias    10.27\n",
      "                                         20% maximal IV relative bias     6.71\n",
      "                                         30% maximal IV relative bias     5.34\n",
      "                                         10% maximal IV size             24.58\n",
      "                                         15% maximal IV size             13.96\n",
      "                                         20% maximal IV size             10.26\n",
      "                                         25% maximal IV size              8.31\n",
      "Source: Stock-Yogo (2005).  Reproduced by permission.\n",
      "NB: Critical values are for Cragg-Donald F statistic and i.i.d. errors.\n",
      "------------------------------------------------------------------------------\n",
      "Hansen J statistic (overidentification test of all instruments):         6.602\n",
      "                                                   Chi-sq(3) P-val =    0.0857\n",
      "-endog- option:\n",
      "Endogeneity test of endogenous regressors:                               4.161\n",
      "                                                   Chi-sq(1) P-val =    0.0414\n",
      "Regressors tested:    educ\n",
      "------------------------------------------------------------------------------\n",
      "Instrumented:         educ\n",
      "Included instruments: exper expersq black south smsa reg661 reg662 reg663\n",
      "                      reg664 reg665 reg666 reg667 reg668\n",
      "Excluded instruments: nearc2 nearc4 motheduc fatheduc\n",
      "Dropped collinear:    south66\n",
      "------------------------------------------------------------------------------\n"
     ]
    }
   ],
   "source": [
    "ivreg2 lwage (educ=nearc2 nearc4 motheduc fatheduc ) exper expersq black south smsa reg661 reg662 reg663 reg664 reg665 reg666 reg667 reg668 south66, gmm2s robust endog(educ)"
   ]
  }
 ],
 "metadata": {
  "kernelspec": {
   "display_name": "Stata",
   "language": "stata",
   "name": "stata"
  },
  "language_info": {
   "codemirror_mode": "stata",
   "file_extension": ".do",
   "mimetype": "text/x-stata",
   "name": "stata",
   "version": "15.1"
  }
 },
 "nbformat": 4,
 "nbformat_minor": 4
}
