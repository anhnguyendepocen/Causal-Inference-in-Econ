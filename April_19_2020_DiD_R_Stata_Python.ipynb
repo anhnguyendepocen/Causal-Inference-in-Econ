{
 "cells": [
  {
   "cell_type": "markdown",
   "metadata": {},
   "source": [
    "---\n",
    "# April_19_2020_DiD_R_Stat\n",
    "---\n",
    "* Name: Jikhan Jeong\n",
    "* Ref: http://www.urfie.net/index.html\n",
    "---"
   ]
  },
  {
   "cell_type": "markdown",
   "metadata": {},
   "source": [
    "### <font color ='blue'> Part 1. Using R: Wooldrige Example 13.3: Effect of a Garbage Incinerator's location on Housing Price\n",
    "---"
   ]
  },
  {
   "cell_type": "code",
   "execution_count": 8,
   "metadata": {},
   "outputs": [
    {
     "name": "stderr",
     "output_type": "stream",
     "text": [
      "Installing package into ‘/home/jikhan.jeong/lib/R_libs’\n",
      "(as ‘lib’ is unspecified)\n"
     ]
    }
   ],
   "source": [
    "install.packages(\"wooldridge\")"
   ]
  },
  {
   "cell_type": "code",
   "execution_count": 9,
   "metadata": {},
   "outputs": [],
   "source": [
    "data(kielmc, package='wooldridge')"
   ]
  },
  {
   "cell_type": "code",
   "execution_count": 15,
   "metadata": {},
   "outputs": [
    {
     "data": {
      "text/html": [
       "<table>\n",
       "<thead><tr><th scope=col>year</th><th scope=col>age</th><th scope=col>agesq</th><th scope=col>nbh</th><th scope=col>cbd</th><th scope=col>intst</th><th scope=col>lintst</th><th scope=col>price</th><th scope=col>rooms</th><th scope=col>area</th><th scope=col>...</th><th scope=col>lprice</th><th scope=col>y81</th><th scope=col>larea</th><th scope=col>lland</th><th scope=col>y81ldist</th><th scope=col>lintstsq</th><th scope=col>nearinc</th><th scope=col>y81nrinc</th><th scope=col>rprice</th><th scope=col>lrprice</th></tr></thead>\n",
       "<tbody>\n",
       "\t<tr><td>1978    </td><td>48      </td><td>2304    </td><td>4       </td><td>3000    </td><td>1000    </td><td>6.9078  </td><td>60000   </td><td>7       </td><td>1660    </td><td>...     </td><td>11.00210</td><td>0       </td><td>7.414573</td><td>8.429017</td><td>0       </td><td>47.71770</td><td>1       </td><td>0       </td><td>60000   </td><td>11.00210</td></tr>\n",
       "\t<tr><td>1978    </td><td>83      </td><td>6889    </td><td>4       </td><td>4000    </td><td>1000    </td><td>6.9078  </td><td>40000   </td><td>6       </td><td>2612    </td><td>...     </td><td>10.59663</td><td>0       </td><td>7.867871</td><td>9.032409</td><td>0       </td><td>47.71770</td><td>1       </td><td>0       </td><td>40000   </td><td>10.59663</td></tr>\n",
       "\t<tr><td>1978    </td><td>58      </td><td>3364    </td><td>4       </td><td>4000    </td><td>1000    </td><td>6.9078  </td><td>34000   </td><td>6       </td><td>1144    </td><td>...     </td><td>10.43412</td><td>0       </td><td>7.042286</td><td>8.517193</td><td>0       </td><td>47.71770</td><td>1       </td><td>0       </td><td>34000   </td><td>10.43412</td></tr>\n",
       "\t<tr><td>1978    </td><td>11      </td><td> 121    </td><td>4       </td><td>4000    </td><td>1000    </td><td>6.9078  </td><td>63900   </td><td>5       </td><td>1136    </td><td>...     </td><td>11.06507</td><td>0       </td><td>7.035269</td><td>9.210340</td><td>0       </td><td>47.71770</td><td>1       </td><td>0       </td><td>63900   </td><td>11.06507</td></tr>\n",
       "\t<tr><td>1978    </td><td>48      </td><td>2304    </td><td>4       </td><td>4000    </td><td>2000    </td><td>7.6009  </td><td>44000   </td><td>5       </td><td>1868    </td><td>...     </td><td>10.69195</td><td>0       </td><td>7.532624</td><td>9.210340</td><td>0       </td><td>57.77368</td><td>1       </td><td>0       </td><td>44000   </td><td>10.69195</td></tr>\n",
       "\t<tr><td>1978    </td><td>78      </td><td>6084    </td><td>4       </td><td>3000    </td><td>2000    </td><td>7.6009  </td><td>46000   </td><td>6       </td><td>1780    </td><td>...     </td><td>10.73640</td><td>0       </td><td>7.484369</td><td>9.159047</td><td>0       </td><td>57.77368</td><td>1       </td><td>0       </td><td>46000   </td><td>10.73640</td></tr>\n",
       "</tbody>\n",
       "</table>\n"
      ],
      "text/latex": [
       "\\begin{tabular}{r|lllllllllllllllllllllllll}\n",
       " year & age & agesq & nbh & cbd & intst & lintst & price & rooms & area & ... & lprice & y81 & larea & lland & y81ldist & lintstsq & nearinc & y81nrinc & rprice & lrprice\\\\\n",
       "\\hline\n",
       "\t 1978     & 48       & 2304     & 4        & 3000     & 1000     & 6.9078   & 60000    & 7        & 1660     & ...      & 11.00210 & 0        & 7.414573 & 8.429017 & 0        & 47.71770 & 1        & 0        & 60000    & 11.00210\\\\\n",
       "\t 1978     & 83       & 6889     & 4        & 4000     & 1000     & 6.9078   & 40000    & 6        & 2612     & ...      & 10.59663 & 0        & 7.867871 & 9.032409 & 0        & 47.71770 & 1        & 0        & 40000    & 10.59663\\\\\n",
       "\t 1978     & 58       & 3364     & 4        & 4000     & 1000     & 6.9078   & 34000    & 6        & 1144     & ...      & 10.43412 & 0        & 7.042286 & 8.517193 & 0        & 47.71770 & 1        & 0        & 34000    & 10.43412\\\\\n",
       "\t 1978     & 11       &  121     & 4        & 4000     & 1000     & 6.9078   & 63900    & 5        & 1136     & ...      & 11.06507 & 0        & 7.035269 & 9.210340 & 0        & 47.71770 & 1        & 0        & 63900    & 11.06507\\\\\n",
       "\t 1978     & 48       & 2304     & 4        & 4000     & 2000     & 7.6009   & 44000    & 5        & 1868     & ...      & 10.69195 & 0        & 7.532624 & 9.210340 & 0        & 57.77368 & 1        & 0        & 44000    & 10.69195\\\\\n",
       "\t 1978     & 78       & 6084     & 4        & 3000     & 2000     & 7.6009   & 46000    & 6        & 1780     & ...      & 10.73640 & 0        & 7.484369 & 9.159047 & 0        & 57.77368 & 1        & 0        & 46000    & 10.73640\\\\\n",
       "\\end{tabular}\n"
      ],
      "text/markdown": [
       "\n",
       "| year | age | agesq | nbh | cbd | intst | lintst | price | rooms | area | ... | lprice | y81 | larea | lland | y81ldist | lintstsq | nearinc | y81nrinc | rprice | lrprice |\n",
       "|---|---|---|---|---|---|---|---|---|---|---|---|---|---|---|---|---|---|---|---|---|\n",
       "| 1978     | 48       | 2304     | 4        | 3000     | 1000     | 6.9078   | 60000    | 7        | 1660     | ...      | 11.00210 | 0        | 7.414573 | 8.429017 | 0        | 47.71770 | 1        | 0        | 60000    | 11.00210 |\n",
       "| 1978     | 83       | 6889     | 4        | 4000     | 1000     | 6.9078   | 40000    | 6        | 2612     | ...      | 10.59663 | 0        | 7.867871 | 9.032409 | 0        | 47.71770 | 1        | 0        | 40000    | 10.59663 |\n",
       "| 1978     | 58       | 3364     | 4        | 4000     | 1000     | 6.9078   | 34000    | 6        | 1144     | ...      | 10.43412 | 0        | 7.042286 | 8.517193 | 0        | 47.71770 | 1        | 0        | 34000    | 10.43412 |\n",
       "| 1978     | 11       |  121     | 4        | 4000     | 1000     | 6.9078   | 63900    | 5        | 1136     | ...      | 11.06507 | 0        | 7.035269 | 9.210340 | 0        | 47.71770 | 1        | 0        | 63900    | 11.06507 |\n",
       "| 1978     | 48       | 2304     | 4        | 4000     | 2000     | 7.6009   | 44000    | 5        | 1868     | ...      | 10.69195 | 0        | 7.532624 | 9.210340 | 0        | 57.77368 | 1        | 0        | 44000    | 10.69195 |\n",
       "| 1978     | 78       | 6084     | 4        | 3000     | 2000     | 7.6009   | 46000    | 6        | 1780     | ...      | 10.73640 | 0        | 7.484369 | 9.159047 | 0        | 57.77368 | 1        | 0        | 46000    | 10.73640 |\n",
       "\n"
      ],
      "text/plain": [
       "  year age agesq nbh cbd  intst lintst price rooms area ... lprice   y81\n",
       "1 1978 48  2304  4   3000 1000  6.9078 60000 7     1660 ... 11.00210 0  \n",
       "2 1978 83  6889  4   4000 1000  6.9078 40000 6     2612 ... 10.59663 0  \n",
       "3 1978 58  3364  4   4000 1000  6.9078 34000 6     1144 ... 10.43412 0  \n",
       "4 1978 11   121  4   4000 1000  6.9078 63900 5     1136 ... 11.06507 0  \n",
       "5 1978 48  2304  4   4000 2000  7.6009 44000 5     1868 ... 10.69195 0  \n",
       "6 1978 78  6084  4   3000 2000  7.6009 46000 6     1780 ... 10.73640 0  \n",
       "  larea    lland    y81ldist lintstsq nearinc y81nrinc rprice lrprice \n",
       "1 7.414573 8.429017 0        47.71770 1       0        60000  11.00210\n",
       "2 7.867871 9.032409 0        47.71770 1       0        40000  10.59663\n",
       "3 7.042286 8.517193 0        47.71770 1       0        34000  10.43412\n",
       "4 7.035269 9.210340 0        47.71770 1       0        63900  11.06507\n",
       "5 7.532624 9.210340 0        57.77368 1       0        44000  10.69195\n",
       "6 7.484369 9.159047 0        57.77368 1       0        46000  10.73640"
      ]
     },
     "metadata": {},
     "output_type": "display_data"
    }
   ],
   "source": [
    "head(kielmc)"
   ]
  },
  {
   "cell_type": "code",
   "execution_count": 17,
   "metadata": {},
   "outputs": [
    {
     "name": "stdout",
     "output_type": "stream",
     "text": [
      "[1] 321  25\n"
     ]
    }
   ],
   "source": [
    "print(dim(kielmc))"
   ]
  },
  {
   "cell_type": "markdown",
   "metadata": {},
   "source": [
    "---\n",
    "# DiD without covariate\n",
    "---"
   ]
  },
  {
   "cell_type": "code",
   "execution_count": 10,
   "metadata": {},
   "outputs": [
    {
     "data": {
      "text/plain": [
       "\n",
       "Call:\n",
       "lm(formula = rprice ~ nearinc, data = kielmc, subset = (year == \n",
       "    1978))\n",
       "\n",
       "Coefficients:\n",
       "(Intercept)      nearinc  \n",
       "      82517       -18824  \n"
      ]
     },
     "metadata": {},
     "output_type": "display_data"
    }
   ],
   "source": [
    "# Before treatment with treatment dummy : nearinc\n",
    "lm(rprice~nearinc, data=kielmc, subset=(year==1978))"
   ]
  },
  {
   "cell_type": "code",
   "execution_count": 11,
   "metadata": {},
   "outputs": [
    {
     "data": {
      "text/plain": [
       "\n",
       "Call:\n",
       "lm(formula = rprice ~ nearinc, data = kielmc, subset = (year == \n",
       "    1981))\n",
       "\n",
       "Coefficients:\n",
       "(Intercept)      nearinc  \n",
       "     101308       -30688  \n"
      ]
     },
     "metadata": {},
     "output_type": "display_data"
    }
   ],
   "source": [
    "# After treatment with treatment dummy : nearinc\n",
    "lm(rprice~nearinc, data=kielmc, subset=(year==1981))"
   ]
  },
  {
   "cell_type": "code",
   "execution_count": 18,
   "metadata": {},
   "outputs": [
    {
     "name": "stderr",
     "output_type": "stream",
     "text": [
      "Loading required package: zoo\n",
      "\n",
      "Attaching package: ‘zoo’\n",
      "\n",
      "The following objects are masked from ‘package:base’:\n",
      "\n",
      "    as.Date, as.Date.numeric\n",
      "\n"
     ]
    },
    {
     "data": {
      "text/plain": [
       "\n",
       "t test of coefficients:\n",
       "\n",
       "            Estimate Std. Error t value  Pr(>|t|)    \n",
       "(Intercept)  82517.2     2726.9 30.2603 < 2.2e-16 ***\n",
       "nearinc     -18824.4     4875.3 -3.8612 0.0001368 ***\n",
       "y81          18790.3     4050.1  4.6395 5.117e-06 ***\n",
       "nearinc:y81 -11863.9     7456.6 -1.5911 0.1125948    \n",
       "---\n",
       "Signif. codes:  0 ‘***’ 0.001 ‘**’ 0.01 ‘*’ 0.05 ‘.’ 0.1 ‘ ’ 1\n"
      ]
     },
     "metadata": {},
     "output_type": "display_data"
    }
   ],
   "source": [
    "# Joint regression including an interaction term\n",
    "# lmtest : A collection of tests, data sets, and examples for diagnostic checking in linear regression models\n",
    "# install.package('lmtest') skip install in here (already in here)\n",
    "# Ref: https://cran.r-project.org/web/packages/lmtest/index.html\n",
    "library(lmtest)\n",
    "coeftest( lm(rprice~nearinc*y81, data=kielmc) )"
   ]
  },
  {
   "cell_type": "markdown",
   "metadata": {},
   "source": [
    "---\n",
    "# DiD with log_real_price of housing\n",
    "---"
   ]
  },
  {
   "cell_type": "code",
   "execution_count": 19,
   "metadata": {},
   "outputs": [],
   "source": [
    "DiD      <- lm(log(rprice)~nearinc*y81                     , data=kielmc)\n",
    "DiDcontr <- lm(log(rprice)~nearinc*y81+age+I(age^2)+log(intst)+ log(land)+log(area)+rooms+baths, data=kielmc)"
   ]
  },
  {
   "cell_type": "code",
   "execution_count": 21,
   "metadata": {},
   "outputs": [
    {
     "name": "stderr",
     "output_type": "stream",
     "text": [
      "Installing package into ‘/home/jikhan.jeong/lib/R_libs’\n",
      "(as ‘lib’ is unspecified)\n"
     ]
    }
   ],
   "source": [
    "# stargazer is an R package that creates LATEX code, HTML code \n",
    "# Ref: https://cran.r-project.org/web/packages/stargazer/vignettes/stargazer.pdf\n",
    "install.packages(\"stargazer\")"
   ]
  },
  {
   "cell_type": "code",
   "execution_count": 22,
   "metadata": {},
   "outputs": [
    {
     "name": "stderr",
     "output_type": "stream",
     "text": [
      "\n",
      "Please cite as: \n",
      "\n",
      " Hlavac, Marek (2018). stargazer: Well-Formatted Regression and Summary Statistics Tables.\n",
      " R package version 5.2.2. https://CRAN.R-project.org/package=stargazer \n",
      "\n"
     ]
    }
   ],
   "source": [
    "library(stargazer)"
   ]
  },
  {
   "cell_type": "code",
   "execution_count": 23,
   "metadata": {},
   "outputs": [
    {
     "name": "stdout",
     "output_type": "stream",
     "text": [
      "\n",
      "====================================================================\n",
      "                                  Dependent variable:               \n",
      "                    ------------------------------------------------\n",
      "                                      log(rprice)                   \n",
      "                              (1)                     (2)           \n",
      "--------------------------------------------------------------------\n",
      "nearinc                    -0.340***                 0.032          \n",
      "                            (0.055)                 (0.047)         \n",
      "                                                                    \n",
      "y81                        0.193***                 0.162***        \n",
      "                            (0.045)                 (0.028)         \n",
      "                                                                    \n",
      "age                                                -0.008***        \n",
      "                                                    (0.001)         \n",
      "                                                                    \n",
      "I(age2)                                            0.00004***       \n",
      "                                                   (0.00001)        \n",
      "                                                                    \n",
      "log(intst)                                          -0.061*         \n",
      "                                                    (0.032)         \n",
      "                                                                    \n",
      "log(land)                                           0.100***        \n",
      "                                                    (0.024)         \n",
      "                                                                    \n",
      "log(area)                                           0.351***        \n",
      "                                                    (0.051)         \n",
      "                                                                    \n",
      "rooms                                               0.047***        \n",
      "                                                    (0.017)         \n",
      "                                                                    \n",
      "baths                                               0.094***        \n",
      "                                                    (0.028)         \n",
      "                                                                    \n",
      "nearinc:y81                 -0.063                  -0.132**        \n",
      "                            (0.083)                 (0.052)         \n",
      "                                                                    \n",
      "Constant                   11.285***                7.652***        \n",
      "                            (0.031)                 (0.416)         \n",
      "                                                                    \n",
      "--------------------------------------------------------------------\n",
      "Observations                  321                     321           \n",
      "R2                           0.246                   0.733          \n",
      "Adjusted R2                  0.239                   0.724          \n",
      "Residual Std. Error    0.338 (df = 317)         0.204 (df = 310)    \n",
      "F Statistic         34.470*** (df = 3; 317) 84.915*** (df = 10; 310)\n",
      "====================================================================\n",
      "Note:                                    *p<0.1; **p<0.05; ***p<0.01\n"
     ]
    }
   ],
   "source": [
    "# DiD with log real price without covariate; Average Treatment Effect (ATE) is not significant\n",
    "# DiD with log real price with covariate; ATE is significant -> Log - Lin Model : Interpreatation : treatment effect decreases housing price around %13.2\n",
    "stargazer(DiD,DiDcontr,type=\"text\")"
   ]
  },
  {
   "cell_type": "markdown",
   "metadata": {},
   "source": [
    "---\n",
    "### <font color=blue> Part2 Stata DiD Example\n",
    "---\n",
    "* Cross sectional DiD, (Supplyment for Pandel apporach with two-way fixed effects)\n",
    "* Treatment : Private tutoring for ITA test in Pullman \n",
    "* Treated Group : JJ group\n",
    "* Controal Group : Tanos Group\n",
    "* Time: 2 period, Before = 2005, After = 2007\n",
    "* Score: ITA test score\n",
    "* Data will not be shared\n",
    "---"
   ]
  },
  {
   "cell_type": "code",
   "execution_count": 6,
   "metadata": {},
   "outputs": [],
   "source": [
    "use\"A_data3_5.dta\",clear"
   ]
  },
  {
   "cell_type": "code",
   "execution_count": 7,
   "metadata": {},
   "outputs": [
    {
     "name": "stdout",
     "output_type": "stream",
     "text": [
      "\n",
      "    Variable |        Obs        Mean    Std. Dev.       Min        Max\n",
      "-------------+---------------------------------------------------------\n",
      "         sid |      3,390     3732.53    1928.041          2       6904\n",
      "        year |      3,390        2006    1.000148       2005       2007\n",
      "     pri_eng |      3,271    .1210639    .3262514          0          1\n",
      "   score_eng |      3,232    46.50681     22.6498          4        100\n"
     ]
    }
   ],
   "source": [
    "sum"
   ]
  },
  {
   "cell_type": "code",
   "execution_count": 8,
   "metadata": {},
   "outputs": [],
   "source": [
    "by sid, sort : egen float treat = total(pri_eng)"
   ]
  },
  {
   "cell_type": "code",
   "execution_count": 9,
   "metadata": {},
   "outputs": [
    {
     "name": "stdout",
     "output_type": "stream",
     "text": [
      "i.treat           _Itreat_0-1         (naturally coded; _Itreat_0 omitted)\n",
      "i.year            _Iyear_2005-2007    (naturally coded; _Iyear_2005 omitted)\n",
      "i.treat*i.year    _ItreXyea_#_#       (coded as above)\n",
      "\n",
      "      Source |       SS           df       MS      Number of obs   =     3,232\n",
      "-------------+----------------------------------   F(3, 3228)      =     56.82\n",
      "       Model |  83137.2437         3  27712.4146   Prob > F        =    0.0000\n",
      "    Residual |  1574408.61     3,228  487.735008   R-squared       =    0.0502\n",
      "-------------+----------------------------------   Adj R-squared   =    0.0493\n",
      "       Total |  1657545.85     3,231  513.013262   Root MSE        =    22.085\n",
      "\n",
      "----------------------------------------------------------------------------------\n",
      "       score_eng |      Coef.   Std. Err.      t    P>|t|     [95% Conf. Interval]\n",
      "-----------------+----------------------------------------------------------------\n",
      "       _Itreat_1 |   9.332955   1.272112     7.34   0.000     6.838727    11.82718\n",
      "     _Iyear_2007 |  -2.707698   .8911114    -3.04   0.002      -4.4549    -.960497\n",
      "_ItreXyea_1_2007 |   4.578678    1.82546     2.51   0.012     .9995012    8.157856\n",
      "           _cons |   45.04872   .6141758    73.35   0.000     43.84451    46.25294\n",
      "----------------------------------------------------------------------------------\n"
     ]
    }
   ],
   "source": [
    "* Interation term indicates that treatment effect of private tutoring will increase ITA scoe 4.5 point higher compared to non-treated\n",
    "xi: reg score_eng i.treat*i.year"
   ]
  },
  {
   "cell_type": "markdown",
   "metadata": {},
   "source": [
    "---\n",
    "### (Supplyment) Two-way Panel DiD: first differentiated approach\n",
    "---\n",
    "* Considering two-way fixed effect with first diffretiation   \n",
    "* Fixed Panel: $ score_{it} = \\alpha +\\beta D_{it} + u_i + \\mu_i + e_{it} $  \n",
    "* First Differentiated to remove unobserved charateristics: $ \\Delta ITA_score_i = \\beta \\Delta D_i + (\\mu_{after} - \\mu_{before}) + \\Delta e_{i }$\n",
    "---"
   ]
  },
  {
   "cell_type": "code",
   "execution_count": 11,
   "metadata": {},
   "outputs": [],
   "source": [
    "by sid, sort: gen time = _n"
   ]
  },
  {
   "cell_type": "code",
   "execution_count": 12,
   "metadata": {},
   "outputs": [
    {
     "name": "stdout",
     "output_type": "stream",
     "text": [
      "       panel variable:  sid (strongly balanced)\n",
      "        time variable:  time, 1 to 2\n",
      "                delta:  1 unit\n"
     ]
    }
   ],
   "source": [
    "tsset sid time"
   ]
  },
  {
   "cell_type": "code",
   "execution_count": 13,
   "metadata": {},
   "outputs": [
    {
     "name": "stdout",
     "output_type": "stream",
     "text": [
      "\n",
      "      Source |       SS           df       MS      Number of obs   =     1,484\n",
      "-------------+----------------------------------   F(1, 1482)      =     14.88\n",
      "       Model |  5508.66039         1  5508.66039   Prob > F        =    0.0001\n",
      "    Residual |  548809.321     1,482  370.316681   R-squared       =    0.0099\n",
      "-------------+----------------------------------   Adj R-squared   =    0.0093\n",
      "       Total |  554317.981     1,483  373.781511   Root MSE        =    19.244\n",
      "\n",
      "------------------------------------------------------------------------------\n",
      " D.score_eng |      Coef.   Std. Err.      t    P>|t|     [95% Conf. Interval]\n",
      "-------------+----------------------------------------------------------------\n",
      "     pri_eng |\n",
      "         D1. |   4.441488   1.151575     3.86   0.000     2.182598    6.700378\n",
      "             |\n",
      "       _cons |   -2.50315   .5773373    -4.34   0.000    -3.635636   -1.370665\n",
      "------------------------------------------------------------------------------\n"
     ]
    }
   ],
   "source": [
    "* Taking private tuturing of ITA in pullman will increase ITA English score 4.44 points lol\n",
    "reg D.score_eng D.pri_eng"
   ]
  },
  {
   "cell_type": "code",
   "execution_count": 14,
   "metadata": {},
   "outputs": [
    {
     "name": "stdout",
     "output_type": "stream",
     "text": [
      "Unknown #command\n"
     ]
    }
   ],
   "source": [
    "# Ha Ha Ha"
   ]
  },
  {
   "cell_type": "code",
   "execution_count": null,
   "metadata": {},
   "outputs": [],
   "source": []
  }
 ],
 "metadata": {
  "kernelspec": {
   "display_name": "Stata",
   "language": "stata",
   "name": "stata"
  },
  "language_info": {
   "codemirror_mode": "stata",
   "file_extension": ".do",
   "mimetype": "text/x-stata",
   "name": "stata",
   "version": "15.1"
  }
 },
 "nbformat": 4,
 "nbformat_minor": 4
}
